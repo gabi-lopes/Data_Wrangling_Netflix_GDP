{
 "cells": [
  {
   "cell_type": "markdown",
   "metadata": {
    "id": "GNIwe5N7s0e_"
   },
   "source": [
    "# Real-world Data Wrangling"
   ]
  },
  {
   "cell_type": "markdown",
   "metadata": {
    "id": "_BG63Tpg8ep_"
   },
   "source": [
    "In this project, you will apply the skills you acquired in the course to gather and wrangle real-world data with two datasets of your choice.\n",
    "\n",
    "You will retrieve and extract the data, assess the data programmatically and visually, accross elements of data quality and structure, and implement a cleaning strategy for the data. You will then store the updated data into your selected database/data store, combine the data, and answer a research question with the datasets.\n",
    "\n",
    "Throughout the process, you are expected to:\n",
    "\n",
    "1. Explain your decisions towards methods used for gathering, assessing, cleaning, storing, and answering the research question\n",
    "2. Write code comments so your code is more readable\n",
    "\n",
    "Before you start, install the some of the required packages. "
   ]
  },
  {
   "cell_type": "code",
   "execution_count": 47,
   "metadata": {},
   "outputs": [
    {
     "name": "stdout",
     "output_type": "stream",
     "text": [
      "Defaulting to user installation because normal site-packages is not writeable\n",
      "Requirement already satisfied: kaggle==1.6.12 in /home/student/.local/lib/python3.10/site-packages (1.6.12)\n",
      "Requirement already satisfied: python-slugify in /home/student/.local/lib/python3.10/site-packages (from kaggle==1.6.12) (8.0.4)\n",
      "Requirement already satisfied: requests in /opt/conda/lib/python3.10/site-packages (from kaggle==1.6.12) (2.29.0)\n",
      "Requirement already satisfied: certifi>=2023.7.22 in /home/student/.local/lib/python3.10/site-packages (from kaggle==1.6.12) (2024.12.14)\n",
      "Requirement already satisfied: urllib3 in /opt/conda/lib/python3.10/site-packages (from kaggle==1.6.12) (1.26.15)\n",
      "Requirement already satisfied: tqdm in /opt/conda/lib/python3.10/site-packages (from kaggle==1.6.12) (4.65.0)\n",
      "Requirement already satisfied: six>=1.10 in /opt/conda/lib/python3.10/site-packages (from kaggle==1.6.12) (1.16.0)\n",
      "Requirement already satisfied: python-dateutil in /opt/conda/lib/python3.10/site-packages (from kaggle==1.6.12) (2.9.0.post0)\n",
      "Requirement already satisfied: bleach in /opt/conda/lib/python3.10/site-packages (from kaggle==1.6.12) (6.1.0)\n",
      "Requirement already satisfied: webencodings in /opt/conda/lib/python3.10/site-packages (from bleach->kaggle==1.6.12) (0.5.1)\n",
      "Requirement already satisfied: text-unidecode>=1.3 in /home/student/.local/lib/python3.10/site-packages (from python-slugify->kaggle==1.6.12) (1.3)\n",
      "Requirement already satisfied: charset-normalizer<4,>=2 in /opt/conda/lib/python3.10/site-packages (from requests->kaggle==1.6.12) (2.0.4)\n",
      "Requirement already satisfied: idna<4,>=2.5 in /opt/conda/lib/python3.10/site-packages (from requests->kaggle==1.6.12) (3.4)\n"
     ]
    }
   ],
   "source": [
    "!python -m pip install kaggle==1.6.12"
   ]
  },
  {
   "cell_type": "code",
   "execution_count": 48,
   "metadata": {},
   "outputs": [
    {
     "name": "stdout",
     "output_type": "stream",
     "text": [
      "Collecting ucimlrepo\n",
      "  Using cached ucimlrepo-0.0.7-py3-none-any.whl (8.0 kB)\n",
      "Collecting numpy==1.24.3\n",
      "  Using cached numpy-1.24.3-cp310-cp310-manylinux_2_17_x86_64.manylinux2014_x86_64.whl (17.3 MB)\n",
      "Collecting certifi>=2020.12.5\n",
      "  Using cached certifi-2024.12.14-py3-none-any.whl (164 kB)\n",
      "Collecting pandas>=1.0.0\n",
      "  Using cached pandas-2.2.3-cp310-cp310-manylinux_2_17_x86_64.manylinux2014_x86_64.whl (13.1 MB)\n",
      "Collecting tzdata>=2022.7\n",
      "  Using cached tzdata-2024.2-py2.py3-none-any.whl (346 kB)\n",
      "Collecting pytz>=2020.1\n",
      "  Using cached pytz-2024.2-py2.py3-none-any.whl (508 kB)\n",
      "Collecting python-dateutil>=2.8.2\n",
      "  Using cached python_dateutil-2.9.0.post0-py2.py3-none-any.whl (229 kB)\n",
      "Collecting six>=1.5\n",
      "  Using cached six-1.17.0-py2.py3-none-any.whl (11 kB)\n",
      "Installing collected packages: pytz, tzdata, six, numpy, certifi, python-dateutil, pandas, ucimlrepo\n",
      "Successfully installed certifi-2024.12.14 numpy-1.24.3 pandas-2.2.3 python-dateutil-2.9.0.post0 pytz-2024.2 six-1.17.0 tzdata-2024.2 ucimlrepo-0.0.7\n",
      "\u001b[33mWARNING: Target directory /workspace/certifi-2024.12.14.dist-info already exists. Specify --upgrade to force replacement.\u001b[0m\u001b[33m\n",
      "\u001b[0m\u001b[33mWARNING: Target directory /workspace/dateutil already exists. Specify --upgrade to force replacement.\u001b[0m\u001b[33m\n",
      "\u001b[0m\u001b[33mWARNING: Target directory /workspace/ucimlrepo-0.0.7.dist-info already exists. Specify --upgrade to force replacement.\u001b[0m\u001b[33m\n",
      "\u001b[0m\u001b[33mWARNING: Target directory /workspace/tzdata already exists. Specify --upgrade to force replacement.\u001b[0m\u001b[33m\n",
      "\u001b[0m\u001b[33mWARNING: Target directory /workspace/python_dateutil-2.9.0.post0.dist-info already exists. Specify --upgrade to force replacement.\u001b[0m\u001b[33m\n",
      "\u001b[0m\u001b[33mWARNING: Target directory /workspace/pytz-2024.2.dist-info already exists. Specify --upgrade to force replacement.\u001b[0m\u001b[33m\n",
      "\u001b[0m\u001b[33mWARNING: Target directory /workspace/__pycache__ already exists. Specify --upgrade to force replacement.\u001b[0m\u001b[33m\n",
      "\u001b[0m\u001b[33mWARNING: Target directory /workspace/six.py already exists. Specify --upgrade to force replacement.\u001b[0m\u001b[33m\n",
      "\u001b[0m\u001b[33mWARNING: Target directory /workspace/certifi already exists. Specify --upgrade to force replacement.\u001b[0m\u001b[33m\n",
      "\u001b[0m\u001b[33mWARNING: Target directory /workspace/numpy-1.24.3.dist-info already exists. Specify --upgrade to force replacement.\u001b[0m\u001b[33m\n",
      "\u001b[0m\u001b[33mWARNING: Target directory /workspace/ucimlrepo already exists. Specify --upgrade to force replacement.\u001b[0m\u001b[33m\n",
      "\u001b[0m\u001b[33mWARNING: Target directory /workspace/pytz already exists. Specify --upgrade to force replacement.\u001b[0m\u001b[33m\n",
      "\u001b[0m\u001b[33mWARNING: Target directory /workspace/numpy.libs already exists. Specify --upgrade to force replacement.\u001b[0m\u001b[33m\n",
      "\u001b[0m\u001b[33mWARNING: Target directory /workspace/numpy already exists. Specify --upgrade to force replacement.\u001b[0m\u001b[33m\n",
      "\u001b[0m\u001b[33mWARNING: Target directory /workspace/tzdata-2024.2.dist-info already exists. Specify --upgrade to force replacement.\u001b[0m\u001b[33m\n",
      "\u001b[0m\u001b[33mWARNING: Target directory /workspace/pandas already exists. Specify --upgrade to force replacement.\u001b[0m\u001b[33m\n",
      "\u001b[0m\u001b[33mWARNING: Target directory /workspace/six-1.17.0.dist-info already exists. Specify --upgrade to force replacement.\u001b[0m\u001b[33m\n",
      "\u001b[0m\u001b[33mWARNING: Target directory /workspace/pandas-2.2.3.dist-info already exists. Specify --upgrade to force replacement.\u001b[0m\u001b[33m\n",
      "\u001b[0m\u001b[33mWARNING: Target directory /workspace/bin already exists. Specify --upgrade to force replacement.\u001b[0m\u001b[33m\n",
      "\u001b[0m"
     ]
    }
   ],
   "source": [
    "!pip install --target=/workspace ucimlrepo numpy==1.24.3"
   ]
  },
  {
   "cell_type": "code",
   "execution_count": 49,
   "metadata": {},
   "outputs": [
    {
     "name": "stdout",
     "output_type": "stream",
     "text": [
      "Defaulting to user installation because normal site-packages is not writeable\n",
      "Requirement already satisfied: numpy in /opt/conda/lib/python3.10/site-packages (1.24.3)\n",
      "Requirement already satisfied: pandas in /opt/conda/lib/python3.10/site-packages (2.0.3)\n",
      "Requirement already satisfied: matplotlib in /opt/conda/lib/python3.10/site-packages (3.7.2)\n",
      "Requirement already satisfied: requests in /opt/conda/lib/python3.10/site-packages (2.29.0)\n",
      "Requirement already satisfied: beautifulsoup4 in /opt/conda/lib/python3.10/site-packages (4.12.2)\n",
      "Requirement already satisfied: pillow in /opt/conda/lib/python3.10/site-packages (9.4.0)\n",
      "Requirement already satisfied: SQLAlchemy in /home/student/.local/lib/python3.10/site-packages (2.0.36)\n",
      "Requirement already satisfied: scikit-learn in /opt/conda/lib/python3.10/site-packages (1.3.0)\n",
      "Requirement already satisfied: seaborn in /opt/conda/lib/python3.10/site-packages (0.12.2)\n",
      "Requirement already satisfied: tzdata>=2022.1 in /opt/conda/lib/python3.10/site-packages (from pandas) (2024.1)\n",
      "Requirement already satisfied: python-dateutil>=2.8.2 in /opt/conda/lib/python3.10/site-packages (from pandas) (2.9.0.post0)\n",
      "Requirement already satisfied: pytz>=2020.1 in /opt/conda/lib/python3.10/site-packages (from pandas) (2022.7)\n",
      "Requirement already satisfied: contourpy>=1.0.1 in /opt/conda/lib/python3.10/site-packages (from matplotlib) (1.2.1)\n",
      "Requirement already satisfied: kiwisolver>=1.0.1 in /opt/conda/lib/python3.10/site-packages (from matplotlib) (1.4.5)\n",
      "Requirement already satisfied: pyparsing<3.1,>=2.3.1 in /opt/conda/lib/python3.10/site-packages (from matplotlib) (3.0.9)\n",
      "Requirement already satisfied: cycler>=0.10 in /opt/conda/lib/python3.10/site-packages (from matplotlib) (0.12.1)\n",
      "Requirement already satisfied: fonttools>=4.22.0 in /opt/conda/lib/python3.10/site-packages (from matplotlib) (4.51.0)\n",
      "Requirement already satisfied: packaging>=20.0 in /opt/conda/lib/python3.10/site-packages (from matplotlib) (23.0)\n",
      "Requirement already satisfied: charset-normalizer<4,>=2 in /opt/conda/lib/python3.10/site-packages (from requests) (2.0.4)\n",
      "Requirement already satisfied: urllib3<1.27,>=1.21.1 in /opt/conda/lib/python3.10/site-packages (from requests) (1.26.15)\n",
      "Requirement already satisfied: certifi>=2017.4.17 in /home/student/.local/lib/python3.10/site-packages (from requests) (2024.12.14)\n",
      "Requirement already satisfied: idna<4,>=2.5 in /opt/conda/lib/python3.10/site-packages (from requests) (3.4)\n",
      "Requirement already satisfied: soupsieve>1.2 in /opt/conda/lib/python3.10/site-packages (from beautifulsoup4) (2.4)\n",
      "Requirement already satisfied: greenlet!=0.4.17 in /home/student/.local/lib/python3.10/site-packages (from SQLAlchemy) (3.1.1)\n",
      "Requirement already satisfied: typing-extensions>=4.6.0 in /home/student/.local/lib/python3.10/site-packages (from SQLAlchemy) (4.12.2)\n",
      "Requirement already satisfied: threadpoolctl>=2.0.0 in /opt/conda/lib/python3.10/site-packages (from scikit-learn) (3.4.0)\n",
      "Requirement already satisfied: joblib>=1.1.1 in /opt/conda/lib/python3.10/site-packages (from scikit-learn) (1.4.0)\n",
      "Requirement already satisfied: scipy>=1.5.0 in /opt/conda/lib/python3.10/site-packages (from scikit-learn) (1.11.2)\n",
      "Requirement already satisfied: six>=1.5 in /opt/conda/lib/python3.10/site-packages (from python-dateutil>=2.8.2->pandas) (1.16.0)\n",
      "Defaulting to user installation because normal site-packages is not writeable\n",
      "Requirement already satisfied: Openpyxl in /home/student/.local/lib/python3.10/site-packages (3.1.5)\n",
      "Requirement already satisfied: et-xmlfile in /home/student/.local/lib/python3.10/site-packages (from Openpyxl) (2.0.0)\n",
      "Defaulting to user installation because normal site-packages is not writeable\n",
      "Requirement already satisfied: SQLAlchemy in /home/student/.local/lib/python3.10/site-packages (2.0.36)\n",
      "Requirement already satisfied: greenlet!=0.4.17 in /home/student/.local/lib/python3.10/site-packages (from SQLAlchemy) (3.1.1)\n",
      "Requirement already satisfied: typing-extensions>=4.6.0 in /home/student/.local/lib/python3.10/site-packages (from SQLAlchemy) (4.12.2)\n",
      "Defaulting to user installation because normal site-packages is not writeable\n",
      "Requirement already satisfied: SQLAlchemy in /home/student/.local/lib/python3.10/site-packages (2.0.36)\n",
      "Requirement already satisfied: typing-extensions>=4.6.0 in /home/student/.local/lib/python3.10/site-packages (from SQLAlchemy) (4.12.2)\n",
      "Requirement already satisfied: greenlet!=0.4.17 in /home/student/.local/lib/python3.10/site-packages (from SQLAlchemy) (3.1.1)\n"
     ]
    }
   ],
   "source": [
    "!pip install numpy pandas matplotlib requests beautifulsoup4 pillow SQLAlchemy scikit-learn seaborn \n",
    "\n",
    "!pip install Openpyxl\n",
    "\n",
    "!pip install SQLAlchemy\n",
    "\n",
    "!pip install SQLAlchemy\n",
    "\n",
    "\n",
    "\n"
   ]
  },
  {
   "cell_type": "code",
   "execution_count": 50,
   "metadata": {},
   "outputs": [],
   "source": [
    "# Importando bibliotecas para cálculos e manipulação de dados\n",
    "import numpy as np  # Biblioteca para cálculos numéricos\n",
    "import pandas as pd  # Biblioteca para manipulação de dados tabulares\n",
    "\n",
    "# Importando bibliotecas para visualização de dados\n",
    "import matplotlib.pyplot as plt  # Criação de gráficos\n",
    "import seaborn as sns  # Gráficos avançados baseados em matplotlib\n",
    "\n",
    "# Importando bibliotecas para comunicação web e parsing\n",
    "import requests  # Realizar requisições HTTP\n",
    "from bs4 import BeautifulSoup  # Parsing de HTML\n",
    "\n",
    "# Importando biblioteca para manipulação de imagens\n",
    "from PIL import Image  # Parte do pacote Pillow\n",
    "\n",
    "# Importando biblioteca para aprendizado de máquina\n",
    "from sklearn.model_selection import train_test_split  # Divisão de dados para treinamento e teste\n",
    "from sklearn.linear_model import LinearRegression  # Exemplo de modelo de regressão linear\n",
    "\n"
   ]
  },
  {
   "cell_type": "markdown",
   "metadata": {},
   "source": [
    "**Note:** Restart the kernel to use updated package(s)."
   ]
  },
  {
   "cell_type": "markdown",
   "metadata": {
    "id": "lDYDkH-Zs7Nn"
   },
   "source": [
    "## 1. Gather data\n",
    "\n",
    "In this section, you will extract data using two different data gathering methods and combine the data. Use at least two different types of data-gathering methods."
   ]
  },
  {
   "cell_type": "markdown",
   "metadata": {
    "id": "LbN7z7rcuqpO"
   },
   "source": [
    "### **1.1.** Problem Statement\n",
    "In 2-4 sentences, explain the kind of problem you want to look at and the datasets you will be wrangling for this project."
   ]
  },
  {
   "cell_type": "markdown",
   "metadata": {
    "id": "gi6swhjSYqu2"
   },
   "source": [
    "Finding the right datasets can be time-consuming. Here we provide you with a list of websites to start with. But we encourage you to explore more websites and find the data that interests you.\n",
    "\n",
    "* Google Dataset Search https://datasetsearch.research.google.com/\n",
    "* The U.S. Government’s open data https://data.gov/\n",
    "* UCI Machine Learning Repository https://archive.ics.uci.edu/ml/index.php\n"
   ]
  },
  {
   "cell_type": "markdown",
   "metadata": {
    "id": "8AQfBAdUypMm"
   },
   "source": [
    "### **1.2.** Gather at least two datasets using two different data gathering methods\n",
    "\n",
    "List of data gathering methods:\n",
    "\n",
    "- Download data manually\n",
    "- Programmatically downloading files\n",
    "- Gather data by accessing APIs\n",
    "- Gather and extract data from HTML files using BeautifulSoup\n",
    "- Extract data from a SQL database\n",
    "\n",
    "Each dataset must have at least two variables, and have greater than 500 data samples within each dataset.\n",
    "\n",
    "For each dataset, briefly describe why you picked the dataset and the gathering method (2-3 full sentences), including the names and significance of the variables in the dataset. Show your work (e.g., if using an API to download the data, please include a snippet of your code). \n",
    "\n",
    "Load the dataset programmtically into this notebook."
   ]
  },
  {
   "cell_type": "markdown",
   "metadata": {
    "id": "7e6gS0wL1KTu"
   },
   "source": [
    "#### **Dataset 1**\n",
    "\n",
    "Type: *FILL IN* (e.g., CSV File.)\n",
    "\n",
    "Method: *FILL IN* (e.g., The data was gathered using the \"Downloading files\" method from X source.)\n",
    "\n",
    "Dataset variables:\n",
    "\n",
    "*   *Variable 1 FILL IN* (e.g., H_MEAN: Mean hourly wage)\n",
    "*   *Variable 2 FILL IN*"
   ]
  },
  {
   "cell_type": "code",
   "execution_count": 51,
   "metadata": {
    "id": "Su8E0uLuYkHU"
   },
   "outputs": [
    {
     "name": "stdout",
     "output_type": "stream",
     "text": [
      "  show_id     type                  title         director  \\\n",
      "0      s1    Movie   Dick Johnson Is Dead  Kirsten Johnson   \n",
      "1      s2  TV Show          Blood & Water              NaN   \n",
      "2      s3  TV Show              Ganglands  Julien Leclercq   \n",
      "3      s4  TV Show  Jailbirds New Orleans              NaN   \n",
      "4      s5  TV Show           Kota Factory              NaN   \n",
      "\n",
      "                                                cast        country  \\\n",
      "0                                                NaN  United States   \n",
      "1  Ama Qamata, Khosi Ngema, Gail Mabalane, Thaban...   South Africa   \n",
      "2  Sami Bouajila, Tracy Gotoas, Samuel Jouy, Nabi...            NaN   \n",
      "3                                                NaN            NaN   \n",
      "4  Mayur More, Jitendra Kumar, Ranjan Raj, Alam K...          India   \n",
      "\n",
      "           date_added  release_year rating   duration  \\\n",
      "0  September 25, 2021          2020  PG-13     90 min   \n",
      "1  September 24, 2021          2021  TV-MA  2 Seasons   \n",
      "2  September 24, 2021          2021  TV-MA   1 Season   \n",
      "3  September 24, 2021          2021  TV-MA   1 Season   \n",
      "4  September 24, 2021          2021  TV-MA  2 Seasons   \n",
      "\n",
      "                                           listed_in  \\\n",
      "0                                      Documentaries   \n",
      "1    International TV Shows, TV Dramas, TV Mysteries   \n",
      "2  Crime TV Shows, International TV Shows, TV Act...   \n",
      "3                             Docuseries, Reality TV   \n",
      "4  International TV Shows, Romantic TV Shows, TV ...   \n",
      "\n",
      "                                         description  \n",
      "0  As her father nears the end of his life, filmm...  \n",
      "1  After crossing paths at a party, a Cape Town t...  \n",
      "2  To protect his family from a powerful drug lor...  \n",
      "3  Feuds, flirtations and toilet talk go down amo...  \n",
      "4  In a city of coaching centers known to train I...  \n"
     ]
    }
   ],
   "source": [
    "#FILL IN 1st data gathering and loading method\n",
    "\n",
    "file1 = 'netflix_titles.csv'  # Caminho do arquivo manualmente baixado\n",
    "df_dataset1 = pd.read_csv(file1)\n",
    "print(df_dataset1.head())"
   ]
  },
  {
   "cell_type": "code",
   "execution_count": 52,
   "metadata": {},
   "outputs": [
    {
     "name": "stdout",
     "output_type": "stream",
     "text": [
      "OK, at least two variables and more than 500 data samples.\n"
     ]
    }
   ],
   "source": [
    "#check number variables and data samples\n",
    "\n",
    "def check_dataset(df):\n",
    "\n",
    "    try:\n",
    "         # Obter número de variáveis (colunas) e amostras (linhas)\n",
    "        num_columns = df.shape[1]\n",
    "        num_rows = df.shape[0]\n",
    "        \n",
    "        # Verificar os critérios\n",
    "        if num_columns >= 2 and num_rows > 500:\n",
    "            return f\"OK, at least two variables and more than 500 data samples.\"\n",
    "        else:\n",
    "            return (f\"not OK.\"\n",
    "                    f\"Colunas: {num_columns} (mínimo: 2), Linhas: {num_rows} (mínimo: 501).\")\n",
    "    except Exception as e:\n",
    "        return f\"Error\"\n",
    "\n",
    "print(check_dataset(df_dataset1))\n"
   ]
  },
  {
   "cell_type": "markdown",
   "metadata": {},
   "source": [
    "### Explanation\n",
    "\n",
    "I chose the dataset about \"Netflix Movies and TV Shows\" because it contains detailed information about popular movies and shows, which allows us to perform analysis on the origin (country) of each movie. This will allow me to analyze which countries are most involved in media production, and how this may correlate with each nation's GDP.\n",
    "\n",
    "The dataset was manually collected by downloading the CSV file directly from Netflix's public data site or from sources like Kaggle that make the data available for analysis.\n",
    "\n",
    "From my analysis, the names and meanings of the variables are:\n",
    "\n",
    "ID: Unique identifier for each movie or TV show.\n",
    "\n",
    "Type: Indicates whether the item is a movie or a TV show.\n",
    "\n",
    "Title: The name of the movie or TV show.\n",
    "\n",
    "Director: Name of the director responsible for the work.\n",
    "\n",
    "Cast: Actors who participate in the production.\n",
    "\n",
    "Country: Country where the movie or show was produced.\n",
    "\n",
    "Date Added: Date the movie or show was added to the Netflix platform.\n",
    "\n",
    "Release Year: Year of original release of the production.\n",
    "Rating: Rating of the movie or show (e.g. PG, PG-13, etc.).\n",
    "Duration: Length of time the movie ran or number of seasons in the case of a TV show."
   ]
  },
  {
   "cell_type": "markdown",
   "metadata": {
    "id": "hoUjq1tPzz7P"
   },
   "source": [
    "#### Dataset 2\n",
    "\n",
    "Type: *FILL IN* (e.g., CSV File.)\n",
    "\n",
    "Method: *FILL IN* (e.g., The data was gathered using the \"API\" method from Y source.)\n",
    "\n",
    "Dataset variables:\n",
    "\n",
    "*   *Variable 1 FILL IN* (e.g., H_MEAN: Mean hourly wage)\n",
    "*   *Variable 2 FILL IN*"
   ]
  },
  {
   "cell_type": "code",
   "execution_count": 53,
   "metadata": {
    "id": "6zT0QxRyYmm7"
   },
   "outputs": [
    {
     "name": "stdout",
     "output_type": "stream",
     "text": [
      "Data saved in 'pib_global.csv'.\n"
     ]
    }
   ],
   "source": [
    "#FILL IN 2nd data gathering and loading method\n",
    "# URL da API do Banco Mundial\n",
    "url = \"https://api.worldbank.org/v2/country/all/indicator/NY.GDP.MKTP.CD?date=2000:2020&format=json&per_page=20000\"\n",
    "\n",
    "# Requisição para a API\n",
    "response = requests.get(url)\n",
    "if response.status_code != 200:\n",
    "    print(\"Erro ao acessar a API.\")\n",
    "    exit()\n",
    "\n",
    "# Processar a resposta JSON\n",
    "data = response.json()\n",
    "\n",
    "# Criar uma lista para armazenar os dados processados\n",
    "gdp_data = []\n",
    "\n",
    "# Verificar se há dados válidos\n",
    "if len(data) > 1 and data[1]:\n",
    "    for record in data[1]:\n",
    "        if record['value'] is not None:  # Verifica se o PIB está disponível\n",
    "            gdp_data.append({\n",
    "                \"País\": record['country']['value'],\n",
    "                \"Ano\": record['date'],\n",
    "                \"PIB (US$)\": record['value']\n",
    "            })\n",
    "\n",
    "# Converter para DataFrame do Pandas\n",
    "df = pd.DataFrame(gdp_data)\n",
    "\n",
    "# Salvar em um arquivo CSV\n",
    "df.to_csv(\"pib_global.csv\", index=False, encoding='utf-8-sig')\n",
    "\n",
    "print(\"Data saved in 'pib_global.csv'.\")"
   ]
  },
  {
   "cell_type": "code",
   "execution_count": 54,
   "metadata": {},
   "outputs": [
    {
     "name": "stdout",
     "output_type": "stream",
     "text": [
      "                          País   Ano     PIB (US$)\n",
      "0  Africa Eastern and Southern  2020  9.333918e+11\n",
      "1  Africa Eastern and Southern  2019  1.009721e+12\n",
      "2  Africa Eastern and Southern  2018  1.012306e+12\n",
      "3  Africa Eastern and Southern  2017  9.729989e+11\n",
      "4  Africa Eastern and Southern  2016  8.289428e+11\n",
      "5  Africa Eastern and Southern  2015  8.982778e+11\n",
      "6  Africa Eastern and Southern  2014  9.787083e+11\n",
      "7  Africa Eastern and Southern  2013  9.623949e+11\n",
      "8  Africa Eastern and Southern  2012  9.529986e+11\n",
      "9  Africa Eastern and Southern  2011  9.454391e+11\n"
     ]
    }
   ],
   "source": [
    "df_dataset2 = pd.read_csv(\"pib_global.csv\")\n",
    "print(df_dataset2.head(10))"
   ]
  },
  {
   "cell_type": "code",
   "execution_count": 55,
   "metadata": {},
   "outputs": [
    {
     "name": "stdout",
     "output_type": "stream",
     "text": [
      "OK, at least two variables and more than 500 data samples.\n"
     ]
    }
   ],
   "source": [
    "#check number variables and data samples\n",
    "\n",
    "def check_dataset(df):\n",
    "\n",
    "    try:\n",
    "         # Obter número de variáveis (colunas) e amostras (linhas)\n",
    "        num_columns = df.shape[1]\n",
    "        num_rows = df.shape[0]\n",
    "        \n",
    "        # Verificar os critérios\n",
    "        if num_columns >= 2 and num_rows > 500:\n",
    "            return f\"OK, at least two variables and more than 500 data samples.\"\n",
    "        else:\n",
    "            return (f\"not OK.\"\n",
    "                    f\"Colunas: {num_columns} (mínimo: 2), Linhas: {num_rows} (mínimo: 501).\")\n",
    "    except Exception as e:\n",
    "        return f\"Error\"\n",
    "\n",
    "print(check_dataset(df_dataset2))"
   ]
  },
  {
   "cell_type": "markdown",
   "metadata": {},
   "source": [
    "### Explanation\n",
    "\n",
    "I chose the dataset on countries' GDP to correlate with the production of films and TV shows, with the aim of analyzing whether there is any relationship between a country's economic growth and its production of audiovisual content, such as films and shows.\n",
    "\n",
    "The dataset was collected through public sources of economic data, such as the World Bank or other international databases, which provide information on each country's GDP over the years. The CSV file was downloaded directly from a public repository (URL).\n",
    "\n",
    "Names and Meaning of Variables:\n",
    "\n",
    "Country Name: Name of the country being analyzed.\n",
    "\n",
    "Year: Reference year for GDP data.\n",
    "\n",
    "Total GDP: Total value of the country's Gross Domestic Product in the specified year, in dollars.\n"
   ]
  },
  {
   "cell_type": "markdown",
   "metadata": {},
   "source": [
    "Optional data storing step: You may save your raw dataset files to the local data store before moving to the next step."
   ]
  },
  {
   "cell_type": "code",
   "execution_count": 56,
   "metadata": {},
   "outputs": [],
   "source": [
    "#Optional: store the raw data in your local data store\n"
   ]
  },
  {
   "cell_type": "markdown",
   "metadata": {},
   "source": [
    "### inspecting the datas"
   ]
  },
  {
   "cell_type": "code",
   "execution_count": 57,
   "metadata": {},
   "outputs": [
    {
     "name": "stdout",
     "output_type": "stream",
     "text": [
      "  show_id     type                  title         director  \\\n",
      "0      s1    Movie   Dick Johnson Is Dead  Kirsten Johnson   \n",
      "1      s2  TV Show          Blood & Water              NaN   \n",
      "2      s3  TV Show              Ganglands  Julien Leclercq   \n",
      "3      s4  TV Show  Jailbirds New Orleans              NaN   \n",
      "4      s5  TV Show           Kota Factory              NaN   \n",
      "\n",
      "                                                cast        country  \\\n",
      "0                                                NaN  United States   \n",
      "1  Ama Qamata, Khosi Ngema, Gail Mabalane, Thaban...   South Africa   \n",
      "2  Sami Bouajila, Tracy Gotoas, Samuel Jouy, Nabi...            NaN   \n",
      "3                                                NaN            NaN   \n",
      "4  Mayur More, Jitendra Kumar, Ranjan Raj, Alam K...          India   \n",
      "\n",
      "           date_added  release_year rating   duration  \\\n",
      "0  September 25, 2021          2020  PG-13     90 min   \n",
      "1  September 24, 2021          2021  TV-MA  2 Seasons   \n",
      "2  September 24, 2021          2021  TV-MA   1 Season   \n",
      "3  September 24, 2021          2021  TV-MA   1 Season   \n",
      "4  September 24, 2021          2021  TV-MA  2 Seasons   \n",
      "\n",
      "                                           listed_in  \\\n",
      "0                                      Documentaries   \n",
      "1    International TV Shows, TV Dramas, TV Mysteries   \n",
      "2  Crime TV Shows, International TV Shows, TV Act...   \n",
      "3                             Docuseries, Reality TV   \n",
      "4  International TV Shows, Romantic TV Shows, TV ...   \n",
      "\n",
      "                                         description  \n",
      "0  As her father nears the end of his life, filmm...  \n",
      "1  After crossing paths at a party, a Cape Town t...  \n",
      "2  To protect his family from a powerful drug lor...  \n",
      "3  Feuds, flirtations and toilet talk go down amo...  \n",
      "4  In a city of coaching centers known to train I...  \n",
      "                          País   Ano     PIB (US$)\n",
      "0  Africa Eastern and Southern  2020  9.333918e+11\n",
      "1  Africa Eastern and Southern  2019  1.009721e+12\n",
      "2  Africa Eastern and Southern  2018  1.012306e+12\n",
      "3  Africa Eastern and Southern  2017  9.729989e+11\n",
      "4  Africa Eastern and Southern  2016  8.289428e+11\n"
     ]
    }
   ],
   "source": [
    "#inspecting the datas\n",
    "\n",
    "print(df_dataset1.head())\n",
    "print(df_dataset2.head())"
   ]
  },
  {
   "cell_type": "code",
   "execution_count": 58,
   "metadata": {},
   "outputs": [
    {
     "name": "stdout",
     "output_type": "stream",
     "text": [
      "     show_id     type        title         director  \\\n",
      "8802   s8803    Movie       Zodiac    David Fincher   \n",
      "8803   s8804  TV Show  Zombie Dumb              NaN   \n",
      "8804   s8805    Movie   Zombieland  Ruben Fleischer   \n",
      "8805   s8806    Movie         Zoom     Peter Hewitt   \n",
      "8806   s8807    Movie       Zubaan      Mozez Singh   \n",
      "\n",
      "                                                   cast        country  \\\n",
      "8802  Mark Ruffalo, Jake Gyllenhaal, Robert Downey J...  United States   \n",
      "8803                                                NaN            NaN   \n",
      "8804  Jesse Eisenberg, Woody Harrelson, Emma Stone, ...  United States   \n",
      "8805  Tim Allen, Courteney Cox, Chevy Chase, Kate Ma...  United States   \n",
      "8806  Vicky Kaushal, Sarah-Jane Dias, Raaghav Chanan...          India   \n",
      "\n",
      "             date_added  release_year rating   duration  \\\n",
      "8802  November 20, 2019          2007      R    158 min   \n",
      "8803       July 1, 2019          2018  TV-Y7  2 Seasons   \n",
      "8804   November 1, 2019          2009      R     88 min   \n",
      "8805   January 11, 2020          2006     PG     88 min   \n",
      "8806      March 2, 2019          2015  TV-14    111 min   \n",
      "\n",
      "                                           listed_in  \\\n",
      "8802                  Cult Movies, Dramas, Thrillers   \n",
      "8803          Kids' TV, Korean TV Shows, TV Comedies   \n",
      "8804                         Comedies, Horror Movies   \n",
      "8805              Children & Family Movies, Comedies   \n",
      "8806  Dramas, International Movies, Music & Musicals   \n",
      "\n",
      "                                            description  \n",
      "8802  A political cartoonist, a crime reporter and a...  \n",
      "8803  While living alone in a spooky town, a young g...  \n",
      "8804  Looking to survive in a world taken over by zo...  \n",
      "8805  Dragged from civilian life, a former superhero...  \n",
      "8806  A scrappy but poor boy worms his way into a ty...  \n",
      "          País   Ano     PIB (US$)\n",
      "5416  Zimbabwe  2004  5.805598e+09\n",
      "5417  Zimbabwe  2003  5.727592e+09\n",
      "5418  Zimbabwe  2002  6.342116e+09\n",
      "5419  Zimbabwe  2001  6.777385e+09\n",
      "5420  Zimbabwe  2000  6.689958e+09\n"
     ]
    }
   ],
   "source": [
    "print(df_dataset1.tail())\n",
    "print(df_dataset2.tail())"
   ]
  },
  {
   "cell_type": "code",
   "execution_count": 59,
   "metadata": {},
   "outputs": [
    {
     "name": "stdout",
     "output_type": "stream",
     "text": [
      "     show_id     type                             title         director  \\\n",
      "4007   s4008    Movie  Jeff Dunham: Arguing with Myself  Manny Rodriguez   \n",
      "7180   s7181    Movie       Kevin Hart: Seriously Funny  Shannon Hartman   \n",
      "4379   s4380  TV Show                      Eternal Love              NaN   \n",
      "4719   s4720    Movie                      7 Khoon Maaf  Vishal Bhardwaj   \n",
      "7762   s7763  TV Show   Power Rangers Dino Super Charge              NaN   \n",
      "6280   s6281    Movie                   Below Her Mouth     April Mullen   \n",
      "6767   s6768    Movie                   Flash of Genius     Marc Abraham   \n",
      "2223   s2224  TV Show    Killer Women with Piers Morgan              NaN   \n",
      "7244   s7245    Movie                   Kurt & Courtney  Nick Broomfield   \n",
      "7131   s7132  TV Show                        JingleKids              NaN   \n",
      "\n",
      "                                                   cast  \\\n",
      "4007                                        Jeff Dunham   \n",
      "7180                                         Kevin Hart   \n",
      "4379  Yang Mi, Mark Chao, Dilraba Dilmurat, Ken Chan...   \n",
      "4719  Priyanka Chopra, Neil Nitin Mukesh, John Abrah...   \n",
      "7762  Brennan Mejia, Camille Hyde, Yoshi Sudarso, Mi...   \n",
      "6280  Erika Linder, Natalie Krill, Sebastian Pigott,...   \n",
      "6767  Greg Kinnear, Lauren Graham, Dermot Mulroney, ...   \n",
      "2223                                       Piers Morgan   \n",
      "7244                         Kurt Cobain, Courtney Love   \n",
      "7131                                                NaN   \n",
      "\n",
      "                    country         date_added  release_year rating  duration  \\\n",
      "4007          United States     March 15, 2019          2006  TV-MA    69 min   \n",
      "7180          United States    October 1, 2018          2010  TV-MA    67 min   \n",
      "4379                  China  November 17, 2018          2017  TV-14  1 Season   \n",
      "4719                  India     August 2, 2018          2011  TV-MA   148 min   \n",
      "7762                    NaN   October 15, 2016          2016  TV-Y7  1 Season   \n",
      "6280                 Canada     August 1, 2017          2016  TV-MA    91 min   \n",
      "6767  Canada, United States   January 16, 2017          2008  PG-13   119 min   \n",
      "2223         United Kingdom      July 19, 2020          2017  TV-MA  1 Season   \n",
      "7244         United Kingdom    January 8, 2019          1998      R    95 min   \n",
      "7131                 Russia      April 1, 2019          2017  TV-Y7  1 Season   \n",
      "\n",
      "                                              listed_in  \\\n",
      "4007                                    Stand-Up Comedy   \n",
      "7180                                    Stand-Up Comedy   \n",
      "4379  International TV Shows, Romantic TV Shows, TV ...   \n",
      "4719            Dramas, International Movies, Thrillers   \n",
      "7762                                           Kids' TV   \n",
      "6280   Dramas, Independent Movies, International Movies   \n",
      "6767                                             Dramas   \n",
      "2223       British TV Shows, Crime TV Shows, Docuseries   \n",
      "7244                    Documentaries, Music & Musicals   \n",
      "7131                                           Kids' TV   \n",
      "\n",
      "                                            description  \n",
      "4007  Playing straight man to partners half his size...  \n",
      "7180  With his unique hip-hop style delivery, Africa...  \n",
      "4379  After the deities Bai Qian and Ye Hua meet and...  \n",
      "4719  Spiced liberally with black comedy, this Bolly...  \n",
      "7762  Just when you thought the Rangers' mission was...  \n",
      "6280  An engaged fashion editor begins a torrid affa...  \n",
      "6767  A college professor goes up against the giants...  \n",
      "2223  Journalist Piers Morgan goes behind prison wal...  \n",
      "7244  This film charts Nirvana's Kurt Cobain's rise ...  \n",
      "7131  In a magical wonderland, merry children and th...  \n"
     ]
    }
   ],
   "source": [
    "#inspecting the datas\n",
    "print(df_dataset1.sample(10))"
   ]
  },
  {
   "cell_type": "code",
   "execution_count": 60,
   "metadata": {},
   "outputs": [
    {
     "name": "stdout",
     "output_type": "stream",
     "text": [
      "(8807, 12)\n",
      "(5421, 3)\n"
     ]
    }
   ],
   "source": [
    "#inspecting the datas\n",
    "#displays the number of rows and columns, which helps you get a sense of the overall structure of the dataframe\n",
    "print(df_dataset1.shape) #netflix\n",
    "print(df_dataset2.shape) #pib"
   ]
  },
  {
   "cell_type": "markdown",
   "metadata": {
    "id": "QwSWIVmotLgV"
   },
   "source": [
    "## 2. Assess data\n",
    "\n",
    "Assess the data according to data quality and tidiness metrics using the report below.\n",
    "\n",
    "List **two** data quality issues and **two** tidiness issues. Assess each data issue visually **and** programmatically, then briefly describe the issue you find.  **Make sure you include justifications for the methods you use for the assessment.**"
   ]
  },
  {
   "cell_type": "markdown",
   "metadata": {
    "id": "adaK2iPNzVu4"
   },
   "source": [
    "### Quality Issue 1:"
   ]
  },
  {
   "cell_type": "code",
   "execution_count": 61,
   "metadata": {},
   "outputs": [],
   "source": [
    "#FILL IN - Inspecting the dataframe visually"
   ]
  },
  {
   "cell_type": "code",
   "execution_count": 62,
   "metadata": {},
   "outputs": [
    {
     "name": "stdout",
     "output_type": "stream",
     "text": [
      "  show_id     type                  title         director  \\\n",
      "0      s1    Movie   Dick Johnson Is Dead  Kirsten Johnson   \n",
      "1      s2  TV Show          Blood & Water              NaN   \n",
      "2      s3  TV Show              Ganglands  Julien Leclercq   \n",
      "3      s4  TV Show  Jailbirds New Orleans              NaN   \n",
      "4      s5  TV Show           Kota Factory              NaN   \n",
      "\n",
      "                                                cast        country  \\\n",
      "0                                                NaN  United States   \n",
      "1  Ama Qamata, Khosi Ngema, Gail Mabalane, Thaban...   South Africa   \n",
      "2  Sami Bouajila, Tracy Gotoas, Samuel Jouy, Nabi...            NaN   \n",
      "3                                                NaN            NaN   \n",
      "4  Mayur More, Jitendra Kumar, Ranjan Raj, Alam K...          India   \n",
      "\n",
      "           date_added  release_year rating   duration  \\\n",
      "0  September 25, 2021          2020  PG-13     90 min   \n",
      "1  September 24, 2021          2021  TV-MA  2 Seasons   \n",
      "2  September 24, 2021          2021  TV-MA   1 Season   \n",
      "3  September 24, 2021          2021  TV-MA   1 Season   \n",
      "4  September 24, 2021          2021  TV-MA  2 Seasons   \n",
      "\n",
      "                                           listed_in  \\\n",
      "0                                      Documentaries   \n",
      "1    International TV Shows, TV Dramas, TV Mysteries   \n",
      "2  Crime TV Shows, International TV Shows, TV Act...   \n",
      "3                             Docuseries, Reality TV   \n",
      "4  International TV Shows, Romantic TV Shows, TV ...   \n",
      "\n",
      "                                         description  \n",
      "0  As her father nears the end of his life, filmm...  \n",
      "1  After crossing paths at a party, a Cape Town t...  \n",
      "2  To protect his family from a powerful drug lor...  \n",
      "3  Feuds, flirtations and toilet talk go down amo...  \n",
      "4  In a city of coaching centers known to train I...  \n",
      "                          País   Ano     PIB (US$)\n",
      "0  Africa Eastern and Southern  2020  9.333918e+11\n",
      "1  Africa Eastern and Southern  2019  1.009721e+12\n",
      "2  Africa Eastern and Southern  2018  1.012306e+12\n",
      "3  Africa Eastern and Southern  2017  9.729989e+11\n",
      "4  Africa Eastern and Southern  2016  8.289428e+11\n"
     ]
    }
   ],
   "source": [
    "print(df_dataset1.head())\n",
    "print(df_dataset2.head())"
   ]
  },
  {
   "cell_type": "code",
   "execution_count": 63,
   "metadata": {},
   "outputs": [],
   "source": [
    "#FILL IN - Inspecting the dataframe programmaticall"
   ]
  },
  {
   "cell_type": "code",
   "execution_count": 64,
   "metadata": {},
   "outputs": [
    {
     "name": "stdout",
     "output_type": "stream",
     "text": [
      "show_id            0\n",
      "type               0\n",
      "title              0\n",
      "director        2634\n",
      "cast             825\n",
      "country          831\n",
      "date_added        10\n",
      "release_year       0\n",
      "rating             4\n",
      "duration           3\n",
      "listed_in          0\n",
      "description        0\n",
      "dtype: int64\n",
      "\n",
      "País         0\n",
      "Ano          0\n",
      "PIB (US$)    0\n",
      "dtype: int64\n"
     ]
    }
   ],
   "source": [
    "#returns a dataframe with boolean valuesm indicating whether the data is null. \n",
    "#With sum(), you can count how many missing values there are per column.\n",
    "\n",
    "print(df_dataset1.isnull().sum())\n",
    "print()\n",
    "print(df_dataset2.isnull().sum())"
   ]
  },
  {
   "cell_type": "code",
   "execution_count": 65,
   "metadata": {},
   "outputs": [
    {
     "name": "stdout",
     "output_type": "stream",
     "text": [
      "  show_id     type                  title         director  \\\n",
      "2      s3  TV Show              Ganglands  Julien Leclercq   \n",
      "3      s4  TV Show  Jailbirds New Orleans              NaN   \n",
      "5      s6  TV Show          Midnight Mass    Mike Flanagan   \n",
      "\n",
      "                                                cast country  \\\n",
      "2  Sami Bouajila, Tracy Gotoas, Samuel Jouy, Nabi...     NaN   \n",
      "3                                                NaN     NaN   \n",
      "5  Kate Siegel, Zach Gilford, Hamish Linklater, H...     NaN   \n",
      "\n",
      "           date_added  release_year rating  duration  \\\n",
      "2  September 24, 2021          2021  TV-MA  1 Season   \n",
      "3  September 24, 2021          2021  TV-MA  1 Season   \n",
      "5  September 24, 2021          2021  TV-MA  1 Season   \n",
      "\n",
      "                                           listed_in  \\\n",
      "2  Crime TV Shows, International TV Shows, TV Act...   \n",
      "3                             Docuseries, Reality TV   \n",
      "5                 TV Dramas, TV Horror, TV Mysteries   \n",
      "\n",
      "                                         description  \n",
      "2  To protect his family from a powerful drug lor...  \n",
      "3  Feuds, flirtations and toilet talk go down amo...  \n",
      "5  The arrival of a charismatic young priest brin...  \n"
     ]
    }
   ],
   "source": [
    "exemplos_paises_nulos = df_dataset1[df_dataset1['country'].isnull()].head(3)\n",
    "print(exemplos_paises_nulos)"
   ]
  },
  {
   "cell_type": "markdown",
   "metadata": {},
   "source": [
    "Issue and justification: *FILL IN*\n",
    "\n",
    "There are null values within base 1 that needed to be adjusted. In the cleaning stage, I will focus only on the columns that I will use to answer the main question of the study."
   ]
  },
  {
   "cell_type": "markdown",
   "metadata": {
    "id": "8Be77N4I1AmE"
   },
   "source": [
    "### Quality Issue 2:"
   ]
  },
  {
   "cell_type": "code",
   "execution_count": 66,
   "metadata": {
    "id": "iMhHyiyLM2I3"
   },
   "outputs": [],
   "source": [
    "#FILL IN - Inspecting the dataframe visually"
   ]
  },
  {
   "cell_type": "code",
   "execution_count": 67,
   "metadata": {},
   "outputs": [
    {
     "name": "stdout",
     "output_type": "stream",
     "text": [
      "                          País   Ano     PIB (US$)\n",
      "0  Africa Eastern and Southern  2020  9.333918e+11\n",
      "1  Africa Eastern and Southern  2019  1.009721e+12\n",
      "2  Africa Eastern and Southern  2018  1.012306e+12\n",
      "3  Africa Eastern and Southern  2017  9.729989e+11\n",
      "4  Africa Eastern and Southern  2016  8.289428e+11\n"
     ]
    }
   ],
   "source": [
    "print(df_dataset2.head())"
   ]
  },
  {
   "cell_type": "code",
   "execution_count": 68,
   "metadata": {},
   "outputs": [],
   "source": [
    "#FILL IN - Inspecting the dataframe programmaticall"
   ]
  },
  {
   "cell_type": "code",
   "execution_count": 69,
   "metadata": {},
   "outputs": [
    {
     "name": "stdout",
     "output_type": "stream",
     "text": [
      "0\n"
     ]
    }
   ],
   "source": [
    "print(df_dataset2['PIB (US$)'].isnull().sum())"
   ]
  },
  {
   "cell_type": "code",
   "execution_count": 70,
   "metadata": {},
   "outputs": [
    {
     "name": "stdout",
     "output_type": "stream",
     "text": [
      "0\n",
      "0\n",
      "\n",
      "Número de valores nulos na coluna 'release_year' do df_dataset1: 0\n",
      "Número de valores nulos na coluna 'Ano' do df_dataset2: 0\n"
     ]
    }
   ],
   "source": [
    "duplicatas_dataset1 = df_dataset1.duplicated().sum()\n",
    "duplicatas_dataset2 = df_dataset2.duplicated().sum()\n",
    "\n",
    "print(duplicatas_dataset1)\n",
    "print(duplicatas_dataset2)\n",
    "print()\n",
    "\n",
    "# Verificar valores nulos na coluna 'release_year' do df_dataset1\n",
    "anos_nulos_dataset1 = df_dataset1['release_year'].isnull().sum()\n",
    "print(f\"Número de valores nulos na coluna 'release_year' do df_dataset1: {anos_nulos_dataset1}\")\n",
    "\n",
    "# Verificar valores nulos na coluna 'Ano' do df_dataset2\n",
    "anos_nulos_dataset2 = df_dataset2['Ano'].isnull().sum()\n",
    "print(f\"Número de valores nulos na coluna 'Ano' do df_dataset2: {anos_nulos_dataset2}\")\n"
   ]
  },
  {
   "cell_type": "markdown",
   "metadata": {},
   "source": [
    "Issue and justification: *FILL IN*\n",
    "\n",
    "Although we did not identify any duplicate rows and no rows without a GDP(PIB) value in the first column and no null values in the years column of both datasets, we identified that the GDP value is not rounded. This will be done in the second stage of data cleaning and manipulation.\n"
   ]
  },
  {
   "cell_type": "markdown",
   "metadata": {
    "id": "lXhGiYyiwwKN"
   },
   "source": [
    "### Tidiness Issue 1:"
   ]
  },
  {
   "cell_type": "code",
   "execution_count": 71,
   "metadata": {},
   "outputs": [
    {
     "name": "stdout",
     "output_type": "stream",
     "text": [
      "  show_id     type                  title         director  \\\n",
      "0      s1    Movie   Dick Johnson Is Dead  Kirsten Johnson   \n",
      "1      s2  TV Show          Blood & Water              NaN   \n",
      "2      s3  TV Show              Ganglands  Julien Leclercq   \n",
      "3      s4  TV Show  Jailbirds New Orleans              NaN   \n",
      "4      s5  TV Show           Kota Factory              NaN   \n",
      "\n",
      "                                                cast        country  \\\n",
      "0                                                NaN  United States   \n",
      "1  Ama Qamata, Khosi Ngema, Gail Mabalane, Thaban...   South Africa   \n",
      "2  Sami Bouajila, Tracy Gotoas, Samuel Jouy, Nabi...            NaN   \n",
      "3                                                NaN            NaN   \n",
      "4  Mayur More, Jitendra Kumar, Ranjan Raj, Alam K...          India   \n",
      "\n",
      "           date_added  release_year rating   duration  \\\n",
      "0  September 25, 2021          2020  PG-13     90 min   \n",
      "1  September 24, 2021          2021  TV-MA  2 Seasons   \n",
      "2  September 24, 2021          2021  TV-MA   1 Season   \n",
      "3  September 24, 2021          2021  TV-MA   1 Season   \n",
      "4  September 24, 2021          2021  TV-MA  2 Seasons   \n",
      "\n",
      "                                           listed_in  \\\n",
      "0                                      Documentaries   \n",
      "1    International TV Shows, TV Dramas, TV Mysteries   \n",
      "2  Crime TV Shows, International TV Shows, TV Act...   \n",
      "3                             Docuseries, Reality TV   \n",
      "4  International TV Shows, Romantic TV Shows, TV ...   \n",
      "\n",
      "                                         description  \n",
      "0  As her father nears the end of his life, filmm...  \n",
      "1  After crossing paths at a party, a Cape Town t...  \n",
      "2  To protect his family from a powerful drug lor...  \n",
      "3  Feuds, flirtations and toilet talk go down amo...  \n",
      "4  In a city of coaching centers known to train I...  \n",
      "                          País   Ano     PIB (US$)\n",
      "0  Africa Eastern and Southern  2020  9.333918e+11\n",
      "1  Africa Eastern and Southern  2019  1.009721e+12\n",
      "2  Africa Eastern and Southern  2018  1.012306e+12\n",
      "3  Africa Eastern and Southern  2017  9.729989e+11\n",
      "4  Africa Eastern and Southern  2016  8.289428e+11\n"
     ]
    }
   ],
   "source": [
    "#FILL IN - Inspecting the dataframe visually\n",
    "print(df_dataset1.head())\n",
    "print(df_dataset2.head())"
   ]
  },
  {
   "cell_type": "code",
   "execution_count": 72,
   "metadata": {},
   "outputs": [
    {
     "name": "stdout",
     "output_type": "stream",
     "text": [
      "show_id: 8807 unique values\n",
      "type: 2 unique values\n",
      "title: 8807 unique values\n",
      "director: 4528 unique values\n",
      "cast: 7692 unique values\n",
      "country: 748 unique values\n",
      "date_added: 1767 unique values\n",
      "release_year: 74 unique values\n",
      "rating: 17 unique values\n",
      "duration: 220 unique values\n",
      "listed_in: 514 unique values\n",
      "description: 8775 unique values\n",
      "País: 262 unique values\n",
      "Ano: 21 unique values\n",
      "PIB (US$): 5379 unique values\n"
     ]
    }
   ],
   "source": [
    "#FILL IN - Inspecting the dataframe programmatically\n",
    "for col in df_dataset1.columns:\n",
    "    print(f\"{col}: {df_dataset1[col].nunique()} unique values\")\n",
    "\n",
    "    \n",
    "for col in df_dataset2.columns:\n",
    "    print(f\"{col}: {df_dataset2[col].nunique()} unique values\")"
   ]
  },
  {
   "cell_type": "code",
   "execution_count": 73,
   "metadata": {},
   "outputs": [
    {
     "name": "stdout",
     "output_type": "stream",
     "text": [
      "     show_id     type                                              title  \\\n",
      "8098   s8099    Movie                                    Story of an Egg   \n",
      "1460   s1461  TV Show                                            Monarca   \n",
      "810     s811    Movie                                    Streets of Fire   \n",
      "7509   s7510    Movie                                               Moor   \n",
      "2550   s2551    Movie                                        18 Presents   \n",
      "1198   s1199    Movie               RebellComedy: Straight Outta the Zoo   \n",
      "2472   s2473  TV Show                                             Betaal   \n",
      "7647   s7648    Movie                                      Oklahoma City   \n",
      "4257   s4258  TV Show                                      Selection Day   \n",
      "6037   s6038  TV Show                                        A Good Wife   \n",
      "5416   s5417    Movie                          Chris D'Elia: Man on Fire   \n",
      "8682   s8683    Movie                                    Vizontele Tuuba   \n",
      "1430   s1431  TV Show                                Pretend It’s a City   \n",
      "437     s438    Movie                                         Cosmic Sin   \n",
      "6280   s6281    Movie                                    Below Her Mouth   \n",
      "4065   s4066    Movie                          The Spiderwick Chronicles   \n",
      "4584   s4585    Movie                                       Manje Bistre   \n",
      "251     s252    Movie                                         Like Crazy   \n",
      "3703   s3704    Movie                                         El testigo   \n",
      "4676   s4677  TV Show                               Ultimate Beastmaster   \n",
      "4294   s4295    Movie                           The Theory of Everything   \n",
      "6200   s6201    Movie                             Avengers: Infinity War   \n",
      "1098   s1099    Movie                                            Mandela   \n",
      "7053   s7054    Movie                                    Ideachi Kalpana   \n",
      "7925   s7926    Movie                                         Samantaral   \n",
      "4611   s4612    Movie                                             Vettai   \n",
      "7903   s7904    Movie                                      Runaway Bride   \n",
      "7682   s7683    Movie                                             Ottaal   \n",
      "3580   s3581    Movie                     Invader Zim: Enter the Florpus   \n",
      "8585   s8586    Movie                              Three-Quarters Decent   \n",
      "3985   s3986    Movie                                           The Dirt   \n",
      "1330   s1331    Movie                                  The World We Make   \n",
      "3539   s3540  TV Show   Loo Loo Kids: Johny & Friends Musical Adventures   \n",
      "2913   s2914    Movie                                            Fanatyk   \n",
      "7595   s7596    Movie             Norm of the North: Keys to the Kingdom   \n",
      "7207   s7208    Movie                                          King Jack   \n",
      "2120   s2121    Movie                                     Les Misérables   \n",
      "5449   s5450    Movie                                           Catfight   \n",
      "3617   s3618    Movie                               Theo Von: No Offense   \n",
      "4554   s4555    Movie  Parrot Sketch Not Included: Twenty Years of Mo...   \n",
      "7777   s7778  TV Show                      Power Rangers Super Megaforce   \n",
      "6308   s6309    Movie                                 Bigger Fatter Liar   \n",
      "2826   s2827  TV Show                                        On My Block   \n",
      "855     s856  TV Show                     Jurassic World Camp Cretaceous   \n",
      "2280   s2281    Movie                                Mumbai Delhi Mumbai   \n",
      "6537   s6538    Movie                         Counterfeiting in Suburbia   \n",
      "135     s136    Movie                                        Cliffhanger   \n",
      "3361   s3362  TV Show                                             Tunnel   \n",
      "8194   s8195    Movie                                       The Apostate   \n",
      "409     s410    Movie  Chhota Bheem & Krishna: Pataliputra- City of t...   \n",
      "2737   s2738    Movie                            Mighty Raju Rio Calling   \n",
      "3801   s3802  TV Show                                          WHAT / IF   \n",
      "3411   s3412    Movie                                           Up North   \n",
      "8586   s8587    Movie                                            Thumper   \n",
      "6844   s6845    Movie                                             Ghayal   \n",
      "\n",
      "                                               director  \\\n",
      "8098                                      Raj B. Shetty   \n",
      "1460                                                NaN   \n",
      "810                                         Walter Hill   \n",
      "7509                                               Jami   \n",
      "2550                                    Francesco Amato   \n",
      "1198                                   Ladislaus Kiraly   \n",
      "2472                                                NaN   \n",
      "7647                                      Barak Goodman   \n",
      "4257                                                NaN   \n",
      "6037                                                NaN   \n",
      "5416                                        Bill D'Elia   \n",
      "8682                                     Yılmaz Erdoğan   \n",
      "1430                                                NaN   \n",
      "437                                        Edward Drake   \n",
      "6280                                       April Mullen   \n",
      "4065                                        Mark Waters   \n",
      "4584                                   Baljit Singh Deo   \n",
      "251                                       Drake Doremus   \n",
      "3703                                         Kate Horne   \n",
      "4676                                                NaN   \n",
      "4294                                        James Marsh   \n",
      "6200                           Anthony Russo, Joe Russo   \n",
      "1098                                     Madonne Ashwin   \n",
      "7053                                             Sachin   \n",
      "7925                                 Partha Chakraborty   \n",
      "4611                                      N. Linguswamy   \n",
      "7903                                     Garry Marshall   \n",
      "7682                          Jayaraj Rajasekharan Nair   \n",
      "3580                                                NaN   \n",
      "8585                                      Mohamed Hamdy   \n",
      "3985                                      Jeff Tremaine   \n",
      "1330                                        Brian Baugh   \n",
      "3539                                                NaN   \n",
      "2913                                       Michał Tylka   \n",
      "7595                                         Tim Maltby   \n",
      "7207                                     Felix Thompson   \n",
      "2120                                         Tom Hooper   \n",
      "5449                                         Onur Tukel   \n",
      "3617                                         John Asher   \n",
      "4554                                    Ian MacNaughton   \n",
      "7777                                                NaN   \n",
      "6308                                         Ron Oliver   \n",
      "2826                                                NaN   \n",
      "855                                                 NaN   \n",
      "2280                                     Satish Rajwade   \n",
      "6537                                      Jason Bourque   \n",
      "135                                        Renny Harlin   \n",
      "3361                                                NaN   \n",
      "8194                                    Federico Veiroj   \n",
      "409                                       Rajiv Chilaka   \n",
      "2737  Rajiv Chilaka, Anirban Majumder, Alka Amarkant...   \n",
      "3801                                                NaN   \n",
      "3411                                         Tope Oshin   \n",
      "8586                                        Jordan Ross   \n",
      "6844                                  Rajkumar Santoshi   \n",
      "\n",
      "                                                   cast  \\\n",
      "8098  Raj B. Shetty, Usha Bhandary, Shailashree, Pra...   \n",
      "1460  Irene Azuela, Juan Manuel Bernal, Osvaldo Bena...   \n",
      "810   Michael Paré, Diane Lane, Rick Moranis, Amy Ma...   \n",
      "7509  Hameed Sheikh, Samiya Mumtaz, Shaz Khan, Abdul...   \n",
      "2550  Vittoria Puccini, Benedetta Porcaroli, Edoardo...   \n",
      "1198  Khalid Bounouar, Alain Frei, Babak Ghassim, Be...   \n",
      "2472  Viineet Kumar, Aahana Kumra, Suchitra Pillai, ...   \n",
      "7647                                                NaN   \n",
      "4257  Mohammad Samad, Yash Shashank Dholye, Rajesh T...   \n",
      "6037  Tien Hsin, Christopher Lee, Darren Chiu, Shara...   \n",
      "5416                                       Chris D'Elia   \n",
      "8682  Yılmaz Erdoğan, Tarık Akan, Altan Erkekli, Cez...   \n",
      "1430                                      Fran Lebowitz   \n",
      "437   Frank Grillo, Bruce Willis, Brandon Thomas Lee...   \n",
      "6280  Erika Linder, Natalie Krill, Sebastian Pigott,...   \n",
      "4065  Freddie Highmore, Mary-Louise Parker, Sarah Bo...   \n",
      "4584  Gippy Grewal, Sonam Bajwa, Karamjit Anmol, Jag...   \n",
      "251   Anton Yelchin, Felicity Jones, Jennifer Lawren...   \n",
      "3703                                Jesús Abad Colorado   \n",
      "4676  Tiki Barber, Chris Distefano, Francesco Facchi...   \n",
      "4294  Emily Watson, Charlie Cox, Felicity Jones, Max...   \n",
      "6200  Robert Downey Jr., Josh Brolin, Mark Ruffalo, ...   \n",
      "1098  Yogi Babu, Sheela Rajkumar, Sangili Murugan, G...   \n",
      "7053  Bhargavi Chirmuley, Mahesh Kothare, Sachin, As...   \n",
      "7925  Riddhi Sen, Parambrata Chatterjee, Soumitra Ch...   \n",
      "4611  Arya, Madhavan, Sameera Reddy, Amala Paul, Nas...   \n",
      "7903  Julia Roberts, Richard Gere, Joan Cusack, Hect...   \n",
      "7682  Ashanth K. Shah, Kumarakom Vasudevan, Shine To...   \n",
      "3580  Richard Steven Horvitz, Rikki Simons, Andy Ber...   \n",
      "8585  Mohamed Ragab, Lamitta Frangieh, Mohsen Mansou...   \n",
      "3985  Douglas Booth, Iwan Rheon, Colson Baker, Danie...   \n",
      "1330  Caleb Castille, Rose Reid, Kevin Sizemore, Gre...   \n",
      "3539                                                NaN   \n",
      "2913  Piotr Cyrwus, Mikołaj Kubacki, Anna Radwan, Ma...   \n",
      "7595  Andrew Toth, Cole Howard, Maya Kay, Jennifer C...   \n",
      "7207  Charlie Plummer, Cory Nichols, Christian Madse...   \n",
      "2120  Hugh Jackman, Russell Crowe, Anne Hathaway, Am...   \n",
      "5449  Sandra Oh, Anne Heche, Alicia Silverstone, Amy...   \n",
      "3617                                           Theo Von   \n",
      "4554  Steve Martin, John Cleese, Graham Chapman, Ter...   \n",
      "7777  Andrew M. Gray, Ciara Hanna, John Mark Louderm...   \n",
      "6308  Ricky Garcia, Jodelle Ferland, Barry Bostwick,...   \n",
      "2826  Sierra Capri, Jason Genao, Brett Gray, Diego T...   \n",
      "855   Paul-Mikél Williams, Jenna Ortega, Sean Giambr...   \n",
      "2280                           Shiv Pandit, Piaa Bajpai   \n",
      "6537  Sarah Butler, Larissa Albuquerque, Kayla Walla...   \n",
      "135   Sylvester Stallone, John Lithgow, Michael Rook...   \n",
      "3361  Todsapol Maisuk, Johnny Hao, Morakot Liu, Pemy...   \n",
      "8194  Álvaro Ogalla, Marta Larralde, Bárbara Lennie,...   \n",
      "409   Vatsal Dubey, Julie Tejwani, Rupa Bhimani, Jig...   \n",
      "2737                                                NaN   \n",
      "3801  Renée Zellweger, Jane Levy, Blake Jenner, Keit...   \n",
      "3411  Banky Wellington, Rahama Sadau, Kanayo O. Kana...   \n",
      "8586  Eliza Taylor, Pablo Schreiber, Daniel Webber, ...   \n",
      "6844  Sunny Deol, Meenakshi Sheshadri, Amrish Puri, ...   \n",
      "\n",
      "                                                country          date_added  \\\n",
      "8098                                              India    October 15, 2017   \n",
      "1460                                             Mexico     January 1, 2021   \n",
      "810                                       United States        June 2, 2021   \n",
      "7509                            Pakistan, United States    November 1, 2017   \n",
      "2550                                              Italy         May 8, 2020   \n",
      "1198                                            Germany      March 16, 2021   \n",
      "2472                                              India        May 24, 2020   \n",
      "7647                                      United States      April 19, 2017   \n",
      "4257                                              India   December 28, 2018   \n",
      "6037                                             Taiwan     January 1, 2017   \n",
      "5416                                      United States       June 27, 2017   \n",
      "8682                                             Turkey      March 10, 2017   \n",
      "1430                                      United States     January 8, 2021   \n",
      "437                                       United States       July 17, 2021   \n",
      "6280                                             Canada      August 1, 2017   \n",
      "4065                                      United States       March 1, 2019   \n",
      "4584                                              India     October 1, 2018   \n",
      "251                                       United States     August 19, 2021   \n",
      "3703                     Colombia, Peru, United Kingdom       June 28, 2019   \n",
      "4676  United States, Brazil, South Korea, Mexico, Ja...     August 31, 2018   \n",
      "4294                              United Kingdom, Japan   December 16, 2018   \n",
      "6200                                      United States   December 25, 2018   \n",
      "1098                                              India       April 5, 2021   \n",
      "7053                                              India     January 1, 2018   \n",
      "7925                                              India  September 15, 2018   \n",
      "4611                                              India     October 1, 2018   \n",
      "7903                                      United States    December 1, 2020   \n",
      "7682                                              India      March 15, 2017   \n",
      "3580                         South Korea, United States     August 16, 2019   \n",
      "8585                                                NaN       June 20, 2019   \n",
      "3985                                      United States      March 22, 2019   \n",
      "1330                                      United States   February 10, 2021   \n",
      "3539                                                NaN   September 1, 2019   \n",
      "2913                                             Poland   February 14, 2020   \n",
      "7595                               India, United States     August 21, 2020   \n",
      "7207                                      United States        July 1, 2016   \n",
      "2120                      United Kingdom, United States     August 16, 2020   \n",
      "5449                                      United States        June 1, 2017   \n",
      "3617                                      United States      August 7, 2019   \n",
      "4554                                     United Kingdom     October 2, 2018   \n",
      "7777                                                NaN     January 1, 2016   \n",
      "6308                                      United States      April 18, 2017   \n",
      "2826                                      United States      March 11, 2020   \n",
      "855                                       United States        May 21, 2021   \n",
      "2280                                              India        July 5, 2020   \n",
      "6537                                             Canada        July 1, 2018   \n",
      "135                 United States, Italy, France, Japan   September 1, 2021   \n",
      "3361                                                NaN    October 30, 2019   \n",
      "8194                             Spain, France, Uruguay        May 10, 2017   \n",
      "409                                                 NaN       July 22, 2021   \n",
      "2737                                              India       April 1, 2020   \n",
      "3801                                      United States        May 24, 2019   \n",
      "3411                                            Nigeria    October 18, 2019   \n",
      "8586                                      United States    February 5, 2018   \n",
      "6844                                              India   December 31, 2019   \n",
      "\n",
      "      release_year rating   duration  \\\n",
      "8098          2017  TV-PG    132 min   \n",
      "1460          2021  TV-MA  2 Seasons   \n",
      "810           1984     PG     94 min   \n",
      "7509          2015  TV-14    135 min   \n",
      "2550          2020  TV-MA    114 min   \n",
      "1198          2021  TV-MA     74 min   \n",
      "2472          2020  TV-MA   1 Season   \n",
      "7647          2017  TV-14    102 min   \n",
      "4257          2018  TV-14   1 Season   \n",
      "6037          2013  TV-14   1 Season   \n",
      "5416          2017  TV-MA     66 min   \n",
      "8682          2004     NR    106 min   \n",
      "1430          2021  TV-14   1 Season   \n",
      "437           2021      R     88 min   \n",
      "6280          2016  TV-MA     91 min   \n",
      "4065          2008     PG     97 min   \n",
      "4584          2017  TV-14    136 min   \n",
      "251           2011  PG-13     91 min   \n",
      "3703          2018  TV-14     73 min   \n",
      "4676          2018  TV-PG  3 Seasons   \n",
      "4294          2014  PG-13    123 min   \n",
      "6200          2018  PG-13    150 min   \n",
      "1098          2021  TV-14    140 min   \n",
      "7053          2010  TV-14    124 min   \n",
      "7925          2017  TV-MA    110 min   \n",
      "4611          2012  TV-14    156 min   \n",
      "7903          1999     PG    116 min   \n",
      "7682          2014  TV-PG     88 min   \n",
      "3580          2019  TV-Y7     72 min   \n",
      "8585          2010  TV-14     96 min   \n",
      "3985          2019  TV-MA    108 min   \n",
      "1330          2019     PG    108 min   \n",
      "3539          2016   TV-Y   1 Season   \n",
      "2913          2017  TV-MA     33 min   \n",
      "7595          2019  TV-PG     92 min   \n",
      "7207          2015     NR     81 min   \n",
      "2120          2012  PG-13    158 min   \n",
      "5449          2016  TV-MA     96 min   \n",
      "3617          2016  TV-MA     67 min   \n",
      "4554          1989  TV-14     72 min   \n",
      "7777          2014  TV-Y7   1 Season   \n",
      "6308          2017     PG     95 min   \n",
      "2826          2020  TV-14  3 Seasons   \n",
      "855           2021  TV-Y7  3 Seasons   \n",
      "2280          2014  TV-MA    107 min   \n",
      "6537          2018  TV-14     88 min   \n",
      "135           1993      R    113 min   \n",
      "3361          2019  TV-14   1 Season   \n",
      "8194          2015  TV-MA     80 min   \n",
      "409           2010  TV-Y7     66 min   \n",
      "2737          2014  TV-Y7     97 min   \n",
      "3801          2019  TV-MA   1 Season   \n",
      "3411          2018  TV-14     99 min   \n",
      "8586          2017  TV-MA     93 min   \n",
      "6844          1990  TV-14    163 min   \n",
      "\n",
      "                                              listed_in  \\\n",
      "8098    Comedies, International Movies, Romantic Movies   \n",
      "1460  International TV Shows, Spanish-Language TV Sh...   \n",
      "810     Action & Adventure, Classic Movies, Cult Movies   \n",
      "7509   Dramas, Independent Movies, International Movies   \n",
      "2550   Dramas, Independent Movies, International Movies   \n",
      "1198                                    Stand-Up Comedy   \n",
      "2472  International TV Shows, TV Action & Adventure,...   \n",
      "7647                                      Documentaries   \n",
      "4257   International TV Shows, TV Dramas, Teen TV Shows   \n",
      "6037  International TV Shows, Romantic TV Shows, TV ...   \n",
      "5416                                    Stand-Up Comedy   \n",
      "8682             Comedies, Dramas, International Movies   \n",
      "1430                                         Docuseries   \n",
      "437                                  Action & Adventure   \n",
      "6280   Dramas, Independent Movies, International Movies   \n",
      "4065                           Children & Family Movies   \n",
      "4584             Comedies, Dramas, International Movies   \n",
      "251         Dramas, Independent Movies, Romantic Movies   \n",
      "3703                Documentaries, International Movies   \n",
      "4676                                         Reality TV   \n",
      "4294                            Dramas, Romantic Movies   \n",
      "6200               Action & Adventure, Sci-Fi & Fantasy   \n",
      "1098             Comedies, Dramas, International Movies   \n",
      "7053    Comedies, International Movies, Romantic Movies   \n",
      "7925                       Dramas, International Movies   \n",
      "4611  Action & Adventure, International Movies, Musi...   \n",
      "7903                          Comedies, Romantic Movies   \n",
      "7682                       Dramas, International Movies   \n",
      "3580  Children & Family Movies, Comedies, Sci-Fi & F...   \n",
      "8585             Comedies, Dramas, International Movies   \n",
      "3985                 Comedies, Dramas, Music & Musicals   \n",
      "1330                            Dramas, Romantic Movies   \n",
      "3539                                           Kids' TV   \n",
      "2913               Comedies, Dramas, Independent Movies   \n",
      "7595                           Children & Family Movies   \n",
      "7207                         Dramas, Independent Movies   \n",
      "2120     Dramas, International Movies, Music & Musicals   \n",
      "5449                       Comedies, Independent Movies   \n",
      "3617                                    Stand-Up Comedy   \n",
      "4554                                           Comedies   \n",
      "7777                                           Kids' TV   \n",
      "6308                 Children & Family Movies, Comedies   \n",
      "2826          Romantic TV Shows, TV Comedies, TV Dramas   \n",
      "855   Kids' TV, TV Action & Adventure, TV Sci-Fi & F...   \n",
      "2280    Comedies, International Movies, Romantic Movies   \n",
      "6537                                  Dramas, Thrillers   \n",
      "135                                  Action & Adventure   \n",
      "3361  Crime TV Shows, International TV Shows, TV Dramas   \n",
      "8194             Comedies, Dramas, International Movies   \n",
      "409                            Children & Family Movies   \n",
      "2737            Children & Family Movies, Sports Movies   \n",
      "3801                            TV Dramas, TV Thrillers   \n",
      "3411                       Dramas, International Movies   \n",
      "8586                                  Dramas, Thrillers   \n",
      "6844   Action & Adventure, Dramas, International Movies   \n",
      "\n",
      "                                            description  \n",
      "8098  When an astrologer gives him one year to find ...  \n",
      "1460  After 20 years, Ana María returns to Mexico an...  \n",
      "810   Tough ex-soldier Tom Cody springs into action ...  \n",
      "7509  A railway stationmaster tries to cope with his...  \n",
      "2550  A pregnant mother with terminal cancer leaves ...  \n",
      "1198  The comics of RebellComedy take the stage and ...  \n",
      "2472  Hired to displace tribal villagers to make way...  \n",
      "7647  Domestic terrorist Timothy McVeigh's bomb atta...  \n",
      "4257  Two teen cricket prodigies struggle against th...  \n",
      "6037  As her seemingly idyllic life begins to crumbl...  \n",
      "5416  Unbridled comic Chris D'Elia reconsiders his a...  \n",
      "8682  With civil war looming, a TV-obsessed Turkish ...  \n",
      "1430  Wander the New York City streets and fascinati...  \n",
      "437   In the year 2524, a disgraced retired general ...  \n",
      "6280  An engaged fashion editor begins a torrid affa...  \n",
      "4065  When city-raised twins move to a tumbledown co...  \n",
      "4584  While prepping for a family wedding, a young m...  \n",
      "251   A spirited exchange student and an American ma...  \n",
      "3703  Colombian photojournalist Jesús Abad Colorado ...  \n",
      "4676  In this intense obstacle course series, elite ...  \n",
      "4294  As his esteem grows in the world of physics, S...  \n",
      "6200  Superheroes amass to stop intergalactic sociop...  \n",
      "1098  Amid a local election with two rivals vying to...  \n",
      "7053  After an actor is hit by a car driven by the p...  \n",
      "7925  On a family visit, a young man and his girlfri...  \n",
      "4611  This powerful Tamil action film follows the sh...  \n",
      "7903  Sparks fly when a newspaper columnist writes a...  \n",
      "7682  Young orphan Kuttappayi goes to live with his ...  \n",
      "3580  When Zim reappears to begin the next phase of ...  \n",
      "8585  Determined to fight corruption in his country,...  \n",
      "3985  In this unflinching biopic based on Mötley Crü...  \n",
      "1330  A teenage equestrian and a local football play...  \n",
      "3539  Music-loving baby Johny goes on dance-filled a...  \n",
      "2913  As a son deals with his own struggles, he must...  \n",
      "7595  When Norm the polar bear is framed for a crime...  \n",
      "7207  Already coping with a bully, a mercurial older...  \n",
      "2120  The musical version of Victor Hugo's epic tale...  \n",
      "5449  Two college frenemies whose lives aren't what ...  \n",
      "3617  Southern charmer Theo Von offers up a twisted ...  \n",
      "4554  Presented by Steve Martin, this anthology draw...  \n",
      "7777  Armed with a key that allows them to morph int...  \n",
      "6308  When his video game concept is stolen by a dis...  \n",
      "2826  In a rough inner-city Los Angeles neighborhood...  \n",
      "855   Six teens invited to attend a state-of-the-art...  \n",
      "2280  In Delhi for the first time, a Mumbai girl los...  \n",
      "6537  Two teenagers print counterfeit money in their...  \n",
      "135   Ranger Gabe Walker and his partner are called ...  \n",
      "3361  A detective finds himself 30 years in the futu...  \n",
      "8194  A young man determined to renounce Catholicism...  \n",
      "409   Krishna needs Bheem’s help: The ruined city of...  \n",
      "2737  Mighty Raju preps for a new adventure in Rio d...  \n",
      "3801  Desperate to secure funding for her med tech s...  \n",
      "3411  A pampered heir must complete a year of servic...  \n",
      "8586  After moving to a hardscrabble suburban Califo...  \n",
      "6844  Framed for his older brother's murder, a boxer...  \n"
     ]
    }
   ],
   "source": [
    "print(df_dataset1.sample(55))"
   ]
  },
  {
   "cell_type": "code",
   "execution_count": 74,
   "metadata": {},
   "outputs": [
    {
     "name": "stdout",
     "output_type": "stream",
     "text": [
      "country: ['United States' 'South Africa' nan 'India'\n",
      " 'United States, Ghana, Burkina Faso, United Kingdom, Germany, Ethiopia'\n",
      " 'United Kingdom' 'Germany, Czech Republic' 'Mexico' 'Turkey' 'Australia'\n",
      " 'United States, India, France' 'Finland' 'China, Canada, United States'\n",
      " 'South Africa, United States, Japan' 'Nigeria' 'Japan'\n",
      " 'Spain, United States' 'France' 'Belgium' 'United Kingdom, United States'\n",
      " 'United States, United Kingdom' 'France, United States' 'South Korea'\n",
      " 'Spain' 'United States, Singapore' 'United Kingdom, Australia, France'\n",
      " 'United Kingdom, Australia, France, United States'\n",
      " 'United States, Canada' 'Germany, United States'\n",
      " 'South Africa, United States' 'United States, Mexico'\n",
      " 'United States, Italy, France, Japan'\n",
      " 'United States, Italy, Romania, United Kingdom'\n",
      " 'Australia, United States' 'Argentina, Venezuela'\n",
      " 'United States, United Kingdom, Canada' 'China, Hong Kong' 'Russia'\n",
      " 'Canada' 'Hong Kong' 'United States, China, Hong Kong'\n",
      " 'Italy, United States' 'United States, Germany'\n",
      " 'United Kingdom, Canada, United States' ', South Korea' 'Ireland'\n",
      " 'India, Nepal' 'New Zealand, Australia, France, United States' 'Italy'\n",
      " 'Italy, Brazil, Greece' 'Argentina' 'Jordan' 'Colombia'\n",
      " 'United States, Japan' 'Belgium, United Kingdom'\n",
      " 'Switzerland, United Kingdom, Australia' 'Israel, United States'\n",
      " 'Canada, United States' 'Brazil' 'Argentina, Spain' 'Taiwan'\n",
      " 'United States, Nigeria' 'Bulgaria, United States'\n",
      " 'Spain, United Kingdom, United States' 'United States, China'\n",
      " 'United States, France' 'Spain, France, United Kingdom, United States'\n",
      " ', France, Algeria' 'Poland' 'Germany'\n",
      " 'France, Israel, Germany, United States, United Kingdom' 'New Zealand'\n",
      " 'Saudi Arabia' 'Thailand' 'Indonesia' 'Egypt, Denmark, Germany'\n",
      " 'United States, Switzerland' 'Hong Kong, Canada, United States'\n",
      " 'Kuwait, United States' 'France, Canada, United States, Spain'\n",
      " 'France, Netherlands, Singapore' 'France, Belgium'\n",
      " 'Ireland, United States, United Kingdom' 'Egypt' 'Malaysia' 'Israel'\n",
      " 'Australia, New Zealand' 'United Kingdom, Germany' 'Belgium, Netherlands'\n",
      " 'South Korea, Czech Republic' 'Australia, Germany' 'Vietnam'\n",
      " 'United Kingdom, Belgium' 'United Kingdom, Australia, United States'\n",
      " 'France, Japan, United States'\n",
      " 'United Kingdom, Germany, Spain, United States'\n",
      " 'United Kingdom, United States, France, Italy'\n",
      " 'United States, Germany, Canada'\n",
      " 'United States, France, Italy, United Kingdom'\n",
      " 'United States, United Kingdom, Germany, Hungary'\n",
      " 'United States, New Zealand' 'Sweden' 'China' 'Lebanon' 'Romania'\n",
      " 'Finland, Germany' 'Lebanon, Syria' 'Philippines' 'Iceland' 'Denmark'\n",
      " 'United States, India' 'Philippines, Singapore, Indonesia'\n",
      " 'China, United States, Canada' 'Lebanon, United Arab Emirates'\n",
      " 'Canada, United States, Denmark' 'United Arab Emirates'\n",
      " 'Mexico, France, Colombia' 'Netherlands' 'Germany, United States, France'\n",
      " 'United States, Bulgaria'\n",
      " 'United Kingdom, France, Germany, United States' 'Norway, Denmark'\n",
      " 'Syria, France, Lebanon, Qatar' 'United States, Czech Republic'\n",
      " 'Mauritius' 'Canada, South Africa' 'Austria' 'Mexico, Brazil'\n",
      " 'Germany, France' 'Mexico, United States'\n",
      " 'United Kingdom, France, Spain, United States' 'United States, Australia'\n",
      " 'United States, United Kingdom, France' 'United States, Russia'\n",
      " 'United States, United Kingdom, New Zealand' 'Australia, United Kingdom'\n",
      " 'Canada, Nigeria, United States'\n",
      " 'France, United States, United Kingdom, Canada' 'France, United Kingdom'\n",
      " 'India, United Kingdom' 'Canada, United States, Mexico'\n",
      " 'United Kingdom, Germany, United States'\n",
      " 'Czech Republic, United Kingdom, United States' 'China, United Kingdom'\n",
      " 'Italy, United Kingdom' 'China, Taiwan'\n",
      " 'United States, Brazil, Japan, Spain, India'\n",
      " 'United States, China, United Kingdom' 'Cameroon'\n",
      " 'Lebanon, Palestine, Denmark, Qatar' 'Japan, United States'\n",
      " 'Uruguay, Germany' 'Egypt, Saudi Arabia'\n",
      " 'United Kingdom, France, Poland, Germany, United States'\n",
      " 'Ireland, Switzerland, United Kingdom, France, United States'\n",
      " 'United Kingdom, South Africa, France'\n",
      " 'Ireland, United Kingdom, France, Germany' 'Russia, United States'\n",
      " 'United Kingdom, United States, France' 'United Kingdom,'\n",
      " 'United States, India, United Kingdom' 'Kenya' 'Spain, Argentina'\n",
      " 'India, United Kingdom, France, Qatar' 'Belgium, France'\n",
      " 'Argentina, Chile' 'United States, Thailand' 'Chile, Brazil'\n",
      " 'United States, Colombia' 'Canada, United States, United Kingdom'\n",
      " 'Uruguay' 'Luxembourg' 'United States, Cambodia, Romania' 'Bangladesh'\n",
      " 'Spain, Belgium, United States'\n",
      " 'United Kingdom, United States, Australia'\n",
      " 'Canada, United States, France' 'Portugal, United States'\n",
      " 'Portugal, Spain' 'India, United States' 'United Kingdom, Ireland'\n",
      " 'United Kingdom, Spain, United States' 'Hungary, United States'\n",
      " 'United States, South Korea' 'Canada, United States, Cayman Islands'\n",
      " 'India, France' 'France, Canada' 'Canada, Hungary, United States'\n",
      " 'Norway' 'Canada, United Kingdom, United States'\n",
      " 'United Kingdom, Germany, France, United States' 'Denmark, United States'\n",
      " 'Senegal' 'France, Algeria'\n",
      " 'United Kingdom, Finland, Germany, United States, Australia, Japan, France, Ireland'\n",
      " 'Philippines, Canada, United Kingdom, United States'\n",
      " 'Ireland, France, Iceland, United States, Mexico, Belgium, United Kingdom, Hong Kong'\n",
      " 'Singapore' 'Kuwait' 'United States, France, Serbia'\n",
      " 'United States, Italy' 'Spain, Italy'\n",
      " 'United States, Ireland, United Kingdom, India'\n",
      " 'United Kingdom, Singapore' 'Hong Kong, United States'\n",
      " 'United States, Malta, France, United Kingdom'\n",
      " 'United States, China, Canada' 'Canada, United States, Ireland'\n",
      " 'Lebanon, Canada, France' 'Japan, Canada, United States'\n",
      " 'Spain, France, Canada' 'Denmark, Singapore, Canada, United States'\n",
      " 'United States, France, Denmark' 'United States, China, Colombia'\n",
      " 'Spain, Thailand, United States' 'Mexico, Spain'\n",
      " 'Ireland, Luxembourg, Belgium' 'China, United States' 'Canada, Belgium'\n",
      " 'Canada, United Kingdom'\n",
      " 'Lebanon, United Arab Emirates, France, Switzerland, Germany'\n",
      " 'France, Belgium, Italy' 'Lebanon, United States, United Arab Emirates'\n",
      " 'Lebanon, France' 'France, Lebanon' 'France, Lebanon, United Kingdom'\n",
      " 'France, Norway, Lebanon, Belgium'\n",
      " 'Sweden, Czech Republic, United Kingdom, Denmark, Netherlands'\n",
      " 'United States, United Kingdom, India' 'Indonesia, Netherlands'\n",
      " 'Turkey, South Korea' 'Serbia, United States' 'Namibia'\n",
      " 'United Kingdom, Kenya' 'United Kingdom, France, Germany, Spain'\n",
      " 'United Kingdom, France, United States, Belgium, Luxembourg, China, Germany'\n",
      " 'Thailand, United States' 'United States, France, Canada, Belgium'\n",
      " 'United Kingdom, China' 'Germany, China, United Kingdom'\n",
      " 'Australia, New Zealand, United States'\n",
      " 'Hong Kong, Iceland, United States' 'France, Australia, Germany'\n",
      " 'United States, Belgium, Canada, France' 'South Africa, Angola'\n",
      " 'United States, Philippines'\n",
      " 'United States, United Kingdom, Canada, China'\n",
      " 'United States, Canada, United Kingdom' 'Turkey, United States'\n",
      " 'Peru, Germany, Norway' 'Mozambique' 'Brazil, France'\n",
      " 'China, Spain, South Korea, United States' 'Spain, Germany'\n",
      " 'Hong Kong, China' 'France, Belgium, Luxembourg, Cambodia,'\n",
      " 'United Kingdom, Australia' 'Belarus' 'Indonesia, United Kingdom'\n",
      " 'Switzerland, France, Belgium, United States' 'Ghana'\n",
      " 'Spain, France, Canada, United States' 'Chile, Italy'\n",
      " 'United Kingdom, Nigeria' 'Chile' 'France, Egypt' 'Egypt, France'\n",
      " 'France, Brazil, Spain, Belgium' 'Egypt, Algeria'\n",
      " 'Canada, South Korea, United States' 'Nigeria, United Kingdom'\n",
      " 'United States, France, Canada' 'Poland, United States'\n",
      " 'United Arab Emirates, Jordan, Lebanon, Saudi Arabia'\n",
      " 'United States, Mexico, Spain, Malta'\n",
      " 'Saudi Arabia, United Arab Emirates' 'Zimbabwe'\n",
      " 'United Kingdom, Germany, United Arab Emirates, New Zealand'\n",
      " 'Romania, United States' 'Canada, Nigeria'\n",
      " 'Saudi Arabia, Netherlands, Germany, Jordan, United Arab Emirates, United States'\n",
      " 'United Kingdom, Spain' 'Finland, France'\n",
      " 'United Kingdom, Germany, United States, France'\n",
      " 'India, United Kingdom, China, Canada, Japan, South Korea, United States'\n",
      " 'Italy, United Kingdom, France' 'United States, Mexico, Colombia'\n",
      " 'Turkey, India' 'Italy, Turkey' 'United Kingdom, United States, Japan'\n",
      " 'France, Belgium, United States' 'Puerto Rico, United States, Colombia'\n",
      " 'Uruguay, Argentina' 'United States, United Kingdom, Japan'\n",
      " 'United States, Argentina' 'United Kingdom, Italy'\n",
      " 'Ireland, United Kingdom'\n",
      " 'United Kingdom, France, Belgium, Canada, United States'\n",
      " 'Netherlands, Germany, Denmark, United Kingdom' 'Hungary'\n",
      " 'Austria, Germany' 'Taiwan, China'\n",
      " 'United Kingdom, United States, Ireland' 'South Korea, United States'\n",
      " 'Brazil, United Kingdom' 'Pakistan, United States'\n",
      " 'Romania, France, Switzerland, Germany' 'Romania, United Kingdom'\n",
      " 'France, Malta, United States' 'Cyprus'\n",
      " 'United Kingdom, France, Belgium, Ireland, United States'\n",
      " 'United States, Norway, Canada' 'Kenya, United States'\n",
      " 'France, South Korea, Japan, United States' 'Taiwan, Malaysia'\n",
      " 'Uruguay, Argentina, Germany, Spain'\n",
      " 'United States, United Kingdom, France, Germany, Japan'\n",
      " 'United States, France, Japan' 'United Kingdom, France, United States'\n",
      " 'Spain, France, United States' 'Indonesia, South Korea, Singapore'\n",
      " 'United States, Spain' 'Netherlands, Germany, Italy, Canada'\n",
      " 'Spain, Germany, Denmark, United States' 'Norway, Sweden'\n",
      " 'South Korea, Canada, United States, China' 'Argentina, Uruguay, Serbia'\n",
      " 'France, Japan' 'Mauritius, South Africa' 'United States, Poland'\n",
      " 'United Kingdom, United States, Germany, Denmark, Belgium, Japan'\n",
      " 'India, Germany' 'India, United Kingdom, Canada, United States'\n",
      " 'Philippines, United States' 'Romania, Bulgaria, Hungary'\n",
      " 'Uruguay, Guatemala' 'France, Senegal, Belgium' 'United Kingdom, Canada'\n",
      " 'Mexico, United States, Spain, Colombia' 'Canada, Norway'\n",
      " 'Singapore, United States' 'Finland, Germany, Belgium'\n",
      " 'United Kingdom, France' 'United States, Chile'\n",
      " 'United Kingdom, Japan, United States' 'Spain, United Kingdom'\n",
      " 'Argentina, United States, Mexico' 'United States, South Korea, Japan'\n",
      " 'Canada, Australia' 'United Kingdom, Hungary, Australia' 'Italy, Belgium'\n",
      " 'United States, United Kingdom, Germany' 'Switzerland'\n",
      " 'Singapore, Malaysia'\n",
      " 'France, Belgium, Luxembourg, Romania, Canada, United States'\n",
      " 'South Africa, Nigeria' 'Spain, France' 'United Kingdom, Hong Kong'\n",
      " 'Pakistan' 'Brazil, United States'\n",
      " 'Denmark, Brazil, France, Portugal, Sweden' 'India, Turkey'\n",
      " 'Malaysia, Singapore, Hong Kong' 'Philippines, Singapore'\n",
      " 'Australia, Canada' 'Taiwan, China, France, United States'\n",
      " 'Germany, Italy' 'Colombia, Peru, United Kingdom'\n",
      " 'Thailand, China, United States' 'Argentina, United States'\n",
      " 'Sweden, United States' 'Uruguay, Spain, Mexico'\n",
      " 'France, Luxembourg, Canada' 'Denmark, Spain' 'Chile, Argentina'\n",
      " 'United Kingdom, Belgium, Sweden' 'Canada, Brazil' 'Italy, France'\n",
      " 'Canada, Germany' 'Pakistan, United Arab Emirates' 'Ghana, United States'\n",
      " 'Mexico, Finland' 'United Arab Emirates, United Kingdom, India'\n",
      " 'Netherlands, Belgium' 'United States, Taiwan'\n",
      " 'Austria, Iraq, United States' 'United Kingdom, Malawi'\n",
      " 'Paraguay, Argentina' 'United Kingdom, Russia, United States'\n",
      " 'India, Pakistan' 'Indonesia, Singapore' 'Spain, Belgium'\n",
      " 'Iceland, Sweden, Belgium' 'Croatia' 'Uruguay, Argentina, Spain'\n",
      " 'United Kingdom, Ireland, United States'\n",
      " 'Canada, Germany, France, United States' 'United Kingdom, Japan'\n",
      " 'Norway, Denmark, Netherlands, Sweden' 'Hong Kong, China, United States'\n",
      " 'Ireland, Canada' 'Italy, Switzerland, France, Germany'\n",
      " 'Mexico, Netherlands' 'United States, Sweden' 'Germany, France, Russia'\n",
      " 'France, Iran, United States' 'United Kingdom, India'\n",
      " 'Russia, Poland, Serbia' 'Spain, Portugal' 'Peru' 'Mexico, Argentina'\n",
      " 'United Kingdom, Canada, United States, Cayman Islands'\n",
      " 'Indonesia, United States'\n",
      " 'United States, Israel, United Kingdom, Canada'\n",
      " 'Norway, Iceland, United States' 'Czech Republic, United States'\n",
      " 'United Kingdom, India, United States' 'United Kingdom, West Germany'\n",
      " 'India, Australia' 'United States,'\n",
      " 'Belgium, United Kingdom, United States' 'India, Germany, Austria'\n",
      " 'United States, Brazil, South Korea, Mexico, Japan, Germany'\n",
      " 'Spain, Mexico' 'China, Japan' 'Argentina, France'\n",
      " 'China, United States, United Kingdom'\n",
      " 'France, Luxembourg, United States' 'China, United States, Australia'\n",
      " 'Colombia, Mexico' 'United States, Canada, Ireland' 'Chile, Peru'\n",
      " 'Argentina, Italy' 'Canada, Japan, United States'\n",
      " 'United Kingdom, Canada, United States, Germany'\n",
      " 'Italy, Switzerland, Albania, Poland' 'United States, Japan, Canada'\n",
      " 'Cambodia' 'Italy, United States, Argentina'\n",
      " 'Saudi Arabia, Syria, Egypt, Lebanon, Kuwait'\n",
      " 'United States, Canada, Indonesia, United Kingdom, China, Singapore'\n",
      " 'Spain, Colombia'\n",
      " 'United Kingdom, South Africa, Australia, United States' 'Bulgaria'\n",
      " 'Argentina, Brazil, France, Poland, Germany, Denmark'\n",
      " 'United Kingdom, Spain, United States, Germany' 'Philippines, Qatar'\n",
      " 'Netherlands, Belgium, Germany, Jordan'\n",
      " 'United Arab Emirates, United States' 'Norway, Germany, Sweden'\n",
      " 'South Korea, China' 'Georgia' 'Soviet Union, India'\n",
      " 'Australia, United Arab Emirates' 'Canada, Germany, South Africa'\n",
      " 'South Korea, China, United States' 'India, Soviet Union' 'India, Mexico'\n",
      " 'Georgia, Germany, France' 'United Arab Emirates, Romania'\n",
      " 'India, Malaysia' 'Germany, Jordan, Netherlands'\n",
      " 'Turkey, France, Germany, Poland' 'Greece, United States'\n",
      " 'France, United Kingdom, United States' 'Norway, Germany'\n",
      " 'France, Morocco' 'Cambodia, United States' 'United States, Denmark'\n",
      " 'United States, Colombia, Mexico'\n",
      " 'United Kingdom, Italy, Israel, Peru, United States'\n",
      " 'Argentina, Uruguay, Spain, France'\n",
      " 'United Kingdom, France, United States, Belgium'\n",
      " 'France, Canada, China, Cambodia'\n",
      " 'United Kingdom, France, Belgium, United States' 'Chile, France'\n",
      " 'Netherlands, United States' 'France, United Kingdom, India'\n",
      " 'Czech Republic, Slovakia' 'Singapore, France' 'Spain, Switzerland'\n",
      " 'United States, Australia, China' 'South Africa, United States, Germany'\n",
      " 'United States, United Kingdom, Australia' 'Spain, Italy, Argentina'\n",
      " 'Chile, Spain, Argentina, Germany' 'West Germany'\n",
      " 'Austria, Czech Republic' 'Lebanon, Qatar'\n",
      " 'United Kingdom, Jordan, Qatar, Iran' 'France, South Korea, Japan'\n",
      " 'Israel, Germany, France' 'Canada, Japan, Netherlands'\n",
      " 'United States, Hungary' 'France, Germany' 'France, Qatar'\n",
      " 'United Kingdom, Germany, Canada' 'Ireland, South Africa'\n",
      " 'Chile, United States, France' 'Belgium, France, Netherlands'\n",
      " 'United Kingdom, Ukraine, United States'\n",
      " 'Germany, Australia, France, China' 'Norway, United States'\n",
      " 'United States, Bermuda, Ecuador'\n",
      " 'United States, Hungary, Ireland, Canada'\n",
      " 'United Kingdom, Egypt, United States'\n",
      " 'United States, France, United Kingdom' 'Spain, Mexico, France'\n",
      " 'United States, South Africa' 'Hong Kong, China, Singapore'\n",
      " 'South Africa, China, United States' 'Denmark, France, Poland'\n",
      " 'New Zealand, United Kingdom' 'Netherlands, Denmark, South Africa'\n",
      " 'Iran, France' 'United Kingdom, United States, France, Germany'\n",
      " 'Australia, France' 'Ireland, United Kingdom, United States'\n",
      " 'United Kingdom, France, Germany' 'Canada, Luxembourg'\n",
      " 'Brazil, Netherlands, United States, Colombia, Austria, Germany'\n",
      " 'France, Canada, Belgium' 'Canada, France'\n",
      " 'Bulgaria, United States, Spain, Canada' 'Sweden, Netherlands'\n",
      " 'France, United States, Mexico'\n",
      " 'Australia, United Kingdom, United Arab Emirates, Canada'\n",
      " 'Australia, Armenia, Japan, Jordan, Mexico, Mongolia, New Zealand, Philippines, South Africa, Sweden, United States, Uruguay'\n",
      " 'India, Iran' 'France, Belgium, Spain'\n",
      " 'Denmark, Sweden, Israel, United States' 'United States, Iceland'\n",
      " 'United Kingdom, Russia' 'United States, Israel, Italy, South Africa'\n",
      " 'Netherlands, Denmark, France, Germany' 'South Korea, Japan'\n",
      " 'United Kingdom, Pakistan' 'France, New Zealand'\n",
      " 'United Kingdom, Czech Republic, United States, Germany, Bahamas'\n",
      " 'China, Germany, India, United States' 'Germany, Sri Lanka'\n",
      " 'United States, India, Bangladesh' 'United States, Canada, France'\n",
      " 'Brazil, France, Germany' 'Germany, United States, Hong Kong, Singapore'\n",
      " 'France, Germany, Switzerland'\n",
      " 'Germany, France, Luxembourg, United Kingdom, United States'\n",
      " 'United Kingdom, Canada, Italy' 'Czech Republic, France'\n",
      " 'Taiwan, Hong Kong, United States, China' 'Germany, Australia'\n",
      " 'United Kingdom, Poland, United States' 'Denmark, Zimbabwe'\n",
      " 'United Kingdom, South Africa' 'Finland, Sweden, Norway, Latvia, Germany'\n",
      " 'South Africa, United States, New Zealand, Canada'\n",
      " 'United States, Italy, United Kingdom, Liechtenstein'\n",
      " 'Denmark, France, Belgium, Italy, Netherlands, United States, United Kingdom'\n",
      " 'United States, Australia, Mexico'\n",
      " 'United Kingdom, Czech Republic, Germany, United States'\n",
      " 'France, China, Japan, United States' 'United States, South Korea, China'\n",
      " 'Germany, Belgium' 'Pakistan, Norway, United States'\n",
      " 'United States, Canada, Belgium, United Kingdom' 'Venezuela'\n",
      " 'Canada, France, Italy, Morocco, United States' 'Canada, Spain, France'\n",
      " 'United States, Indonesia' 'Spain, France, Italy'\n",
      " 'United Arab Emirates, United States, United Kingdom'\n",
      " 'United Kingdom, Israel, Russia' 'Spain, Cuba' 'United States, Brazil'\n",
      " 'United States, France, Mexico' 'United States, Nicaragua'\n",
      " 'United Kingdom, United States, Spain, Germany, Greece, Canada'\n",
      " 'Italy, Canada, France' 'United Kingdom, Denmark, Canada, Croatia'\n",
      " 'Italy, Germany' 'United States, France, United Kingdom, Japan'\n",
      " 'United States, United Kingdom, Denmark, Sweden'\n",
      " 'United States, United Kingdom, Italy'\n",
      " 'United States, France, Canada, Spain' 'Russia, United States, China'\n",
      " 'United States, Canada, Germany' 'Ireland, United States'\n",
      " 'United States, United Arab Emirates' 'United States, Ireland'\n",
      " 'Ireland, United Kingdom, Italy, United States' 'Poland,'\n",
      " 'Slovenia, Croatia, Germany, Czech Republic, Qatar'\n",
      " 'Canada, United Kingdom, Netherlands' 'United States, Spain, Germany'\n",
      " 'India, Japan' 'China, South Korea, United States'\n",
      " 'United Kingdom, France, Belgium' 'Canada, Ireland, United States'\n",
      " 'United Kingdom, United States, Dominican Republic'\n",
      " 'United States, Senegal' 'Germany, United Kingdom, United States'\n",
      " 'South Africa, Germany, Netherlands, France'\n",
      " 'Canada, United States, United Kingdom, France, Luxembourg'\n",
      " 'Ireland, United States, France' 'Germany, United States, Canada'\n",
      " 'United Kingdom, Germany, Canada, United States'\n",
      " 'United States, France, Canada, Lebanon, Qatar'\n",
      " 'Netherlands, Belgium, United Kingdom, United States'\n",
      " 'France, Belgium, China, United States' 'United States, Chile, Israel'\n",
      " 'United Kingdom, Norway, Denmark, Germany, Sweden'\n",
      " 'Norway, Denmark, Sweden' 'China, India, Nepal'\n",
      " 'Colombia, Mexico, United States' 'United Kingdom, South Korea'\n",
      " 'Denmark, China' 'United States, Greece, Brazil' 'South Korea, France'\n",
      " 'United States, Australia, Samoa, United Kingdom'\n",
      " 'Germany, United Kingdom' 'Argentina, Chile, Peru' 'Turkey, Azerbaijan'\n",
      " 'Poland, West Germany' 'Germany, United States, Sweden' 'Canada, Spain'\n",
      " 'United States, Cambodia' 'United States, Greece'\n",
      " 'Norway, United Kingdom, France, Ireland' 'United Kingdom, Poland'\n",
      " 'Israel, Sweden, Germany, Netherlands' 'Switzerland, France'\n",
      " 'Italy, India' 'United States, Botswana'\n",
      " 'Chile, Argentina, France, Spain, United States'\n",
      " 'United States, India, South Korea, China'\n",
      " 'Denmark, Germany, Belgium, United Kingdom, France'\n",
      " 'Denmark, Germany, Belgium, United Kingdom, France, Sweden'\n",
      " 'France, Switzerland, Spain, United States, United Arab Emirates'\n",
      " 'Brazil, India, China, United States'\n",
      " 'Denmark, France, United States, Sweden' 'Australia, Iraq'\n",
      " 'China, Morocco, Hong Kong' 'Canada, United States, Germany'\n",
      " 'United Kingdom, Thailand' 'Venezuela, Colombia'\n",
      " 'Colombia, United States' 'France, Germany, Czech Republic, Belgium'\n",
      " 'Switzerland, Vatican City, Italy, Germany, France'\n",
      " 'Portugal, France, Poland, United States'\n",
      " 'United States, New Zealand, Japan'\n",
      " 'United States, Netherlands, Japan, France' 'India, Switzerland'\n",
      " 'Canada, India' 'United States, Morocco' 'Singapore, Japan, France'\n",
      " 'Canada, Mexico, Germany, South Africa'\n",
      " 'United Kingdom, United States, Canada'\n",
      " 'Germany, France, United States, Canada, United Kingdom'\n",
      " 'United States, Uruguay' 'India, Canada'\n",
      " 'Ireland, Canada, United Kingdom, United States'\n",
      " 'United States, Germany, Australia' 'Australia, France, Ireland'\n",
      " 'Australia, India' 'United States, United Kingdom, Canada, Japan'\n",
      " 'Sweden, United Kingdom, Finland' 'Hong Kong, Taiwan'\n",
      " 'United States, United Kingdom, Spain, South Korea' 'Guatemala' 'Ukraine'\n",
      " 'Italy, South Africa, West Germany, Australia, United States'\n",
      " 'United States, Germany, United Kingdom, Australia'\n",
      " 'Italy, France, Switzerland' 'Canada, France, United States'\n",
      " 'Switzerland, United States' 'Thailand, Canada, United States'\n",
      " 'China, Hong Kong, United States' 'United Kingdom, New Zealand'\n",
      " 'Czech Republic, United Kingdom, France'\n",
      " 'Australia, United Kingdom, Canada' 'Jamaica, United States'\n",
      " 'Australia, United Kingdom, United States, New Zealand, Italy, France'\n",
      " 'France, United States, Canada'\n",
      " 'United Kingdom, France, Canada, Belgium, United States'\n",
      " 'Denmark, United Kingdom, Sweden' 'United States, Hong Kong'\n",
      " 'United States, Kazakhstan'\n",
      " 'Argentina, France, United States, Germany, Qatar'\n",
      " 'United States, Germany, United Kingdom'\n",
      " 'United States, Germany, United Kingdom, Italy'\n",
      " 'United States, New Zealand, United Kingdom' 'Finland, United States'\n",
      " 'Spain, France, Uruguay' 'France, Canada, United States'\n",
      " 'United States, Canada, China'\n",
      " 'Ireland, Canada, Luxembourg, United States, United Kingdom, Philippines, India'\n",
      " 'United States, Czech Republic, United Kingdom' 'Israel, Germany'\n",
      " 'Mexico, France'\n",
      " 'Israel, Germany, Poland, Luxembourg, Belgium, France, United States'\n",
      " 'Austria, United States' 'United Kingdom, Lithuania'\n",
      " 'United States, Greece, United Kingdom'\n",
      " 'United Kingdom, China, United States, India'\n",
      " 'United States, Sweden, Norway' 'United Kingdom, United States, Morocco'\n",
      " 'United States, United Kingdom, Morocco' 'Spain, Canada, United States'\n",
      " 'United States, India, United Arab Emirates'\n",
      " 'United Kingdom, Canada, France, United States' 'India, Germany, France'\n",
      " 'Belgium, Ireland, Netherlands, Germany, Afghanistan'\n",
      " 'France, Canada, Italy, United States, China'\n",
      " 'Ireland, United Kingdom, Greece, France, Netherlands'\n",
      " 'Denmark, Indonesia, Finland, Norway, United Kingdom, Israel, France, United States, Germany, Netherlands'\n",
      " 'New Zealand, United States'\n",
      " 'United States, Australia, South Africa, United Kingdom'\n",
      " 'United States, Germany, Mexico'\n",
      " 'Somalia, Kenya, Sudan, South Africa, United States'\n",
      " 'United States, Canada, Japan, Panama' 'United Kingdom, Spain, Belgium'\n",
      " 'Serbia, South Korea, Slovenia'\n",
      " 'Denmark, United Kingdom, South Africa, Sweden, Belgium'\n",
      " 'Germany, Canada, United States'\n",
      " 'Ireland, Canada, United States, United Kingdom'\n",
      " 'New Zealand, United Kingdom, Australia'\n",
      " 'United Kingdom, Australia, Canada, United States'\n",
      " 'Germany, United States, Italy' 'United States, Venezuela'\n",
      " 'United Kingdom, Canada, Japan'\n",
      " 'United Kingdom, United States, Czech Republic'\n",
      " 'United Kingdom, China, United States' 'United Kingdom, Brazil, Germany'\n",
      " 'United Kingdom, Namibia, South Africa, Zimbabwe, United States'\n",
      " 'Canada, United States, India, United Kingdom'\n",
      " 'Switzerland, United Kingdom, United States'\n",
      " 'United Kingdom, India, Sweden'\n",
      " 'United States, Brazil, India, Uganda, China'\n",
      " 'Peru, United States, United Kingdom'\n",
      " 'Germany, United States, United Kingdom, Canada'\n",
      " 'Canada, India, Thailand, United States, United Arab Emirates'\n",
      " 'United States, East Germany, West Germany'\n",
      " 'France, Netherlands, South Africa, Finland'\n",
      " 'Egypt, Austria, United States' 'Russia, Spain'\n",
      " 'Croatia, Slovenia, Serbia, Montenegro' 'Japan, Canada'\n",
      " 'United States, France, South Korea, Indonesia'\n",
      " 'United Arab Emirates, Jordan']\n"
     ]
    }
   ],
   "source": [
    "for col in ['country']:\n",
    "    print(f\"{col}: {df_dataset1[col].unique()}\")"
   ]
  },
  {
   "cell_type": "code",
   "execution_count": 75,
   "metadata": {},
   "outputs": [
    {
     "name": "stdout",
     "output_type": "stream",
     "text": [
      "['United States, Ghana, Burkina Faso, United Kingdom, Germany, Ethiopia'\n",
      " 'Germany, Czech Republic' 'United States, India, France'\n",
      " 'China, Canada, United States' 'South Africa, United States, Japan'\n",
      " 'Spain, United States' 'United Kingdom, United States'\n",
      " 'United States, United Kingdom' 'France, United States'\n",
      " 'United States, Singapore' 'United Kingdom, Australia, France'\n",
      " 'United Kingdom, Australia, France, United States'\n",
      " 'United States, Canada' 'Germany, United States'\n",
      " 'South Africa, United States' 'United States, Mexico'\n",
      " 'United States, Italy, France, Japan'\n",
      " 'United States, Italy, Romania, United Kingdom'\n",
      " 'Australia, United States' 'Argentina, Venezuela'\n",
      " 'United States, United Kingdom, Canada' 'China, Hong Kong'\n",
      " 'United States, China, Hong Kong' 'Italy, United States'\n",
      " 'United States, Germany' 'United Kingdom, Canada, United States'\n",
      " ', South Korea' 'India, Nepal'\n",
      " 'New Zealand, Australia, France, United States' 'Italy, Brazil, Greece'\n",
      " 'United States, Japan' 'Belgium, United Kingdom'\n",
      " 'Switzerland, United Kingdom, Australia' 'Israel, United States'\n",
      " 'Canada, United States' 'Argentina, Spain' 'United States, Nigeria'\n",
      " 'Bulgaria, United States' 'Spain, United Kingdom, United States'\n",
      " 'United States, China' 'United States, France'\n",
      " 'Spain, France, United Kingdom, United States' ', France, Algeria'\n",
      " 'France, Israel, Germany, United States, United Kingdom'\n",
      " 'Egypt, Denmark, Germany' 'United States, Switzerland'\n",
      " 'Hong Kong, Canada, United States' 'Kuwait, United States'\n",
      " 'France, Canada, United States, Spain' 'France, Netherlands, Singapore'\n",
      " 'France, Belgium' 'Ireland, United States, United Kingdom'\n",
      " 'Australia, New Zealand' 'United Kingdom, Germany' 'Belgium, Netherlands'\n",
      " 'South Korea, Czech Republic' 'Australia, Germany'\n",
      " 'United Kingdom, Belgium' 'United Kingdom, Australia, United States'\n",
      " 'France, Japan, United States'\n",
      " 'United Kingdom, Germany, Spain, United States'\n",
      " 'United Kingdom, United States, France, Italy'\n",
      " 'United States, Germany, Canada'\n",
      " 'United States, France, Italy, United Kingdom'\n",
      " 'United States, United Kingdom, Germany, Hungary'\n",
      " 'United States, New Zealand' 'Finland, Germany' 'Lebanon, Syria'\n",
      " 'United States, India' 'Philippines, Singapore, Indonesia'\n",
      " 'China, United States, Canada' 'Lebanon, United Arab Emirates'\n",
      " 'Canada, United States, Denmark' 'Mexico, France, Colombia'\n",
      " 'Germany, United States, France' 'United States, Bulgaria'\n",
      " 'United Kingdom, France, Germany, United States' 'Norway, Denmark'\n",
      " 'Syria, France, Lebanon, Qatar' 'United States, Czech Republic'\n",
      " 'Canada, South Africa' 'Mexico, Brazil' 'Germany, France'\n",
      " 'Mexico, United States' 'United Kingdom, France, Spain, United States'\n",
      " 'United States, Australia' 'United States, United Kingdom, France'\n",
      " 'United States, Russia' 'United States, United Kingdom, New Zealand'\n",
      " 'Australia, United Kingdom' 'Canada, Nigeria, United States'\n",
      " 'France, United States, United Kingdom, Canada' 'France, United Kingdom'\n",
      " 'India, United Kingdom' 'Canada, United States, Mexico'\n",
      " 'United Kingdom, Germany, United States'\n",
      " 'Czech Republic, United Kingdom, United States' 'China, United Kingdom'\n",
      " 'Italy, United Kingdom' 'China, Taiwan'\n",
      " 'United States, Brazil, Japan, Spain, India'\n",
      " 'United States, China, United Kingdom'\n",
      " 'Lebanon, Palestine, Denmark, Qatar' 'Japan, United States'\n",
      " 'Uruguay, Germany' 'Egypt, Saudi Arabia'\n",
      " 'United Kingdom, France, Poland, Germany, United States'\n",
      " 'Ireland, Switzerland, United Kingdom, France, United States'\n",
      " 'United Kingdom, South Africa, France'\n",
      " 'Ireland, United Kingdom, France, Germany' 'Russia, United States'\n",
      " 'United Kingdom, United States, France' 'United Kingdom,'\n",
      " 'United States, India, United Kingdom' 'Spain, Argentina'\n",
      " 'India, United Kingdom, France, Qatar' 'Belgium, France'\n",
      " 'Argentina, Chile' 'United States, Thailand' 'Chile, Brazil'\n",
      " 'United States, Colombia' 'Canada, United States, United Kingdom'\n",
      " 'United States, Cambodia, Romania' 'Spain, Belgium, United States'\n",
      " 'United Kingdom, United States, Australia'\n",
      " 'Canada, United States, France' 'Portugal, United States'\n",
      " 'Portugal, Spain' 'India, United States' 'United Kingdom, Ireland'\n",
      " 'United Kingdom, Spain, United States' 'Hungary, United States'\n",
      " 'United States, South Korea' 'Canada, United States, Cayman Islands'\n",
      " 'India, France' 'France, Canada' 'Canada, Hungary, United States'\n",
      " 'Canada, United Kingdom, United States'\n",
      " 'United Kingdom, Germany, France, United States' 'Denmark, United States'\n",
      " 'France, Algeria'\n",
      " 'United Kingdom, Finland, Germany, United States, Australia, Japan, France, Ireland'\n",
      " 'Philippines, Canada, United Kingdom, United States'\n",
      " 'Ireland, France, Iceland, United States, Mexico, Belgium, United Kingdom, Hong Kong'\n",
      " 'United States, France, Serbia' 'United States, Italy' 'Spain, Italy'\n",
      " 'United States, Ireland, United Kingdom, India'\n",
      " 'United Kingdom, Singapore' 'Hong Kong, United States'\n",
      " 'United States, Malta, France, United Kingdom'\n",
      " 'United States, China, Canada' 'Canada, United States, Ireland'\n",
      " 'Lebanon, Canada, France' 'Japan, Canada, United States'\n",
      " 'Spain, France, Canada' 'Denmark, Singapore, Canada, United States'\n",
      " 'United States, France, Denmark' 'United States, China, Colombia'\n",
      " 'Spain, Thailand, United States' 'Mexico, Spain'\n",
      " 'Ireland, Luxembourg, Belgium' 'China, United States' 'Canada, Belgium'\n",
      " 'Canada, United Kingdom'\n",
      " 'Lebanon, United Arab Emirates, France, Switzerland, Germany'\n",
      " 'France, Belgium, Italy' 'Lebanon, United States, United Arab Emirates'\n",
      " 'Lebanon, France' 'France, Lebanon' 'France, Lebanon, United Kingdom'\n",
      " 'France, Norway, Lebanon, Belgium'\n",
      " 'Sweden, Czech Republic, United Kingdom, Denmark, Netherlands'\n",
      " 'United States, United Kingdom, India' 'Indonesia, Netherlands'\n",
      " 'Turkey, South Korea' 'Serbia, United States' 'United Kingdom, Kenya'\n",
      " 'United Kingdom, France, Germany, Spain'\n",
      " 'United Kingdom, France, United States, Belgium, Luxembourg, China, Germany'\n",
      " 'Thailand, United States' 'United States, France, Canada, Belgium'\n",
      " 'United Kingdom, China' 'Germany, China, United Kingdom'\n",
      " 'Australia, New Zealand, United States'\n",
      " 'Hong Kong, Iceland, United States' 'France, Australia, Germany'\n",
      " 'United States, Belgium, Canada, France' 'South Africa, Angola'\n",
      " 'United States, Philippines'\n",
      " 'United States, United Kingdom, Canada, China'\n",
      " 'United States, Canada, United Kingdom' 'Turkey, United States'\n",
      " 'Peru, Germany, Norway' 'Brazil, France'\n",
      " 'China, Spain, South Korea, United States' 'Spain, Germany'\n",
      " 'Hong Kong, China' 'France, Belgium, Luxembourg, Cambodia,'\n",
      " 'United Kingdom, Australia' 'Indonesia, United Kingdom'\n",
      " 'Switzerland, France, Belgium, United States'\n",
      " 'Spain, France, Canada, United States' 'Chile, Italy'\n",
      " 'United Kingdom, Nigeria' 'France, Egypt' 'Egypt, France'\n",
      " 'France, Brazil, Spain, Belgium' 'Egypt, Algeria'\n",
      " 'Canada, South Korea, United States' 'Nigeria, United Kingdom'\n",
      " 'United States, France, Canada' 'Poland, United States'\n",
      " 'United Arab Emirates, Jordan, Lebanon, Saudi Arabia'\n",
      " 'United States, Mexico, Spain, Malta'\n",
      " 'Saudi Arabia, United Arab Emirates'\n",
      " 'United Kingdom, Germany, United Arab Emirates, New Zealand'\n",
      " 'Romania, United States' 'Canada, Nigeria'\n",
      " 'Saudi Arabia, Netherlands, Germany, Jordan, United Arab Emirates, United States'\n",
      " 'United Kingdom, Spain' 'Finland, France'\n",
      " 'United Kingdom, Germany, United States, France'\n",
      " 'India, United Kingdom, China, Canada, Japan, South Korea, United States'\n",
      " 'Italy, United Kingdom, France' 'United States, Mexico, Colombia'\n",
      " 'Turkey, India' 'Italy, Turkey' 'United Kingdom, United States, Japan'\n",
      " 'France, Belgium, United States' 'Puerto Rico, United States, Colombia'\n",
      " 'Uruguay, Argentina' 'United States, United Kingdom, Japan'\n",
      " 'United States, Argentina' 'United Kingdom, Italy'\n",
      " 'Ireland, United Kingdom'\n",
      " 'United Kingdom, France, Belgium, Canada, United States'\n",
      " 'Netherlands, Germany, Denmark, United Kingdom' 'Austria, Germany'\n",
      " 'Taiwan, China' 'United Kingdom, United States, Ireland'\n",
      " 'South Korea, United States' 'Brazil, United Kingdom'\n",
      " 'Pakistan, United States' 'Romania, France, Switzerland, Germany'\n",
      " 'Romania, United Kingdom' 'France, Malta, United States'\n",
      " 'United Kingdom, France, Belgium, Ireland, United States'\n",
      " 'United States, Norway, Canada' 'Kenya, United States'\n",
      " 'France, South Korea, Japan, United States' 'Taiwan, Malaysia'\n",
      " 'Uruguay, Argentina, Germany, Spain'\n",
      " 'United States, United Kingdom, France, Germany, Japan'\n",
      " 'United States, France, Japan' 'United Kingdom, France, United States'\n",
      " 'Spain, France, United States' 'Indonesia, South Korea, Singapore'\n",
      " 'United States, Spain' 'Netherlands, Germany, Italy, Canada'\n",
      " 'Spain, Germany, Denmark, United States' 'Norway, Sweden'\n",
      " 'South Korea, Canada, United States, China' 'Argentina, Uruguay, Serbia'\n",
      " 'France, Japan' 'Mauritius, South Africa' 'United States, Poland'\n",
      " 'United Kingdom, United States, Germany, Denmark, Belgium, Japan'\n",
      " 'India, Germany' 'India, United Kingdom, Canada, United States'\n",
      " 'Philippines, United States' 'Romania, Bulgaria, Hungary'\n",
      " 'Uruguay, Guatemala' 'France, Senegal, Belgium' 'United Kingdom, Canada'\n",
      " 'Mexico, United States, Spain, Colombia' 'Canada, Norway'\n",
      " 'Singapore, United States' 'Finland, Germany, Belgium'\n",
      " 'United Kingdom, France' 'United States, Chile'\n",
      " 'United Kingdom, Japan, United States' 'Spain, United Kingdom'\n",
      " 'Argentina, United States, Mexico' 'United States, South Korea, Japan'\n",
      " 'Canada, Australia' 'United Kingdom, Hungary, Australia' 'Italy, Belgium'\n",
      " 'United States, United Kingdom, Germany' 'Singapore, Malaysia'\n",
      " 'France, Belgium, Luxembourg, Romania, Canada, United States'\n",
      " 'South Africa, Nigeria' 'Spain, France' 'United Kingdom, Hong Kong'\n",
      " 'Brazil, United States' 'Denmark, Brazil, France, Portugal, Sweden'\n",
      " 'India, Turkey' 'Malaysia, Singapore, Hong Kong' 'Philippines, Singapore'\n",
      " 'Australia, Canada' 'Taiwan, China, France, United States'\n",
      " 'Germany, Italy' 'Colombia, Peru, United Kingdom'\n",
      " 'Thailand, China, United States' 'Argentina, United States'\n",
      " 'Sweden, United States' 'Uruguay, Spain, Mexico'\n",
      " 'France, Luxembourg, Canada' 'Denmark, Spain' 'Chile, Argentina'\n",
      " 'United Kingdom, Belgium, Sweden' 'Canada, Brazil' 'Italy, France'\n",
      " 'Canada, Germany' 'Pakistan, United Arab Emirates' 'Ghana, United States'\n",
      " 'Mexico, Finland' 'United Arab Emirates, United Kingdom, India'\n",
      " 'Netherlands, Belgium' 'United States, Taiwan'\n",
      " 'Austria, Iraq, United States' 'United Kingdom, Malawi'\n",
      " 'Paraguay, Argentina' 'United Kingdom, Russia, United States'\n",
      " 'India, Pakistan' 'Indonesia, Singapore' 'Spain, Belgium'\n",
      " 'Iceland, Sweden, Belgium' 'Uruguay, Argentina, Spain'\n",
      " 'United Kingdom, Ireland, United States'\n",
      " 'Canada, Germany, France, United States' 'United Kingdom, Japan'\n",
      " 'Norway, Denmark, Netherlands, Sweden' 'Hong Kong, China, United States'\n",
      " 'Ireland, Canada' 'Italy, Switzerland, France, Germany'\n",
      " 'Mexico, Netherlands' 'United States, Sweden' 'Germany, France, Russia'\n",
      " 'France, Iran, United States' 'United Kingdom, India'\n",
      " 'Russia, Poland, Serbia' 'Spain, Portugal' 'Mexico, Argentina'\n",
      " 'United Kingdom, Canada, United States, Cayman Islands'\n",
      " 'Indonesia, United States'\n",
      " 'United States, Israel, United Kingdom, Canada'\n",
      " 'Norway, Iceland, United States' 'Czech Republic, United States'\n",
      " 'United Kingdom, India, United States' 'United Kingdom, West Germany'\n",
      " 'India, Australia' 'United States,'\n",
      " 'Belgium, United Kingdom, United States' 'India, Germany, Austria'\n",
      " 'United States, Brazil, South Korea, Mexico, Japan, Germany'\n",
      " 'Spain, Mexico' 'China, Japan' 'Argentina, France'\n",
      " 'China, United States, United Kingdom'\n",
      " 'France, Luxembourg, United States' 'China, United States, Australia'\n",
      " 'Colombia, Mexico' 'United States, Canada, Ireland' 'Chile, Peru'\n",
      " 'Argentina, Italy' 'Canada, Japan, United States'\n",
      " 'United Kingdom, Canada, United States, Germany'\n",
      " 'Italy, Switzerland, Albania, Poland' 'United States, Japan, Canada'\n",
      " 'Italy, United States, Argentina'\n",
      " 'Saudi Arabia, Syria, Egypt, Lebanon, Kuwait'\n",
      " 'United States, Canada, Indonesia, United Kingdom, China, Singapore'\n",
      " 'Spain, Colombia'\n",
      " 'United Kingdom, South Africa, Australia, United States'\n",
      " 'Argentina, Brazil, France, Poland, Germany, Denmark'\n",
      " 'United Kingdom, Spain, United States, Germany' 'Philippines, Qatar'\n",
      " 'Netherlands, Belgium, Germany, Jordan'\n",
      " 'United Arab Emirates, United States' 'Norway, Germany, Sweden'\n",
      " 'South Korea, China' 'Soviet Union, India'\n",
      " 'Australia, United Arab Emirates' 'Canada, Germany, South Africa'\n",
      " 'South Korea, China, United States' 'India, Soviet Union' 'India, Mexico'\n",
      " 'Georgia, Germany, France' 'United Arab Emirates, Romania'\n",
      " 'India, Malaysia' 'Germany, Jordan, Netherlands'\n",
      " 'Turkey, France, Germany, Poland' 'Greece, United States'\n",
      " 'France, United Kingdom, United States' 'Norway, Germany'\n",
      " 'France, Morocco' 'Cambodia, United States' 'United States, Denmark'\n",
      " 'United States, Colombia, Mexico'\n",
      " 'United Kingdom, Italy, Israel, Peru, United States'\n",
      " 'Argentina, Uruguay, Spain, France'\n",
      " 'United Kingdom, France, United States, Belgium'\n",
      " 'France, Canada, China, Cambodia'\n",
      " 'United Kingdom, France, Belgium, United States' 'Chile, France'\n",
      " 'Netherlands, United States' 'France, United Kingdom, India'\n",
      " 'Czech Republic, Slovakia' 'Singapore, France' 'Spain, Switzerland'\n",
      " 'United States, Australia, China' 'South Africa, United States, Germany'\n",
      " 'United States, United Kingdom, Australia' 'Spain, Italy, Argentina'\n",
      " 'Chile, Spain, Argentina, Germany' 'Austria, Czech Republic'\n",
      " 'Lebanon, Qatar' 'United Kingdom, Jordan, Qatar, Iran'\n",
      " 'France, South Korea, Japan' 'Israel, Germany, France'\n",
      " 'Canada, Japan, Netherlands' 'United States, Hungary' 'France, Germany'\n",
      " 'France, Qatar' 'United Kingdom, Germany, Canada' 'Ireland, South Africa'\n",
      " 'Chile, United States, France' 'Belgium, France, Netherlands'\n",
      " 'United Kingdom, Ukraine, United States'\n",
      " 'Germany, Australia, France, China' 'Norway, United States'\n",
      " 'United States, Bermuda, Ecuador'\n",
      " 'United States, Hungary, Ireland, Canada'\n",
      " 'United Kingdom, Egypt, United States'\n",
      " 'United States, France, United Kingdom' 'Spain, Mexico, France'\n",
      " 'United States, South Africa' 'Hong Kong, China, Singapore'\n",
      " 'South Africa, China, United States' 'Denmark, France, Poland'\n",
      " 'New Zealand, United Kingdom' 'Netherlands, Denmark, South Africa'\n",
      " 'Iran, France' 'United Kingdom, United States, France, Germany'\n",
      " 'Australia, France' 'Ireland, United Kingdom, United States'\n",
      " 'United Kingdom, France, Germany' 'Canada, Luxembourg'\n",
      " 'Brazil, Netherlands, United States, Colombia, Austria, Germany'\n",
      " 'France, Canada, Belgium' 'Canada, France'\n",
      " 'Bulgaria, United States, Spain, Canada' 'Sweden, Netherlands'\n",
      " 'France, United States, Mexico'\n",
      " 'Australia, United Kingdom, United Arab Emirates, Canada'\n",
      " 'Australia, Armenia, Japan, Jordan, Mexico, Mongolia, New Zealand, Philippines, South Africa, Sweden, United States, Uruguay'\n",
      " 'India, Iran' 'France, Belgium, Spain'\n",
      " 'Denmark, Sweden, Israel, United States' 'United States, Iceland'\n",
      " 'United Kingdom, Russia' 'United States, Israel, Italy, South Africa'\n",
      " 'Netherlands, Denmark, France, Germany' 'South Korea, Japan'\n",
      " 'United Kingdom, Pakistan' 'France, New Zealand'\n",
      " 'United Kingdom, Czech Republic, United States, Germany, Bahamas'\n",
      " 'China, Germany, India, United States' 'Germany, Sri Lanka'\n",
      " 'United States, India, Bangladesh' 'United States, Canada, France'\n",
      " 'Brazil, France, Germany' 'Germany, United States, Hong Kong, Singapore'\n",
      " 'France, Germany, Switzerland'\n",
      " 'Germany, France, Luxembourg, United Kingdom, United States'\n",
      " 'United Kingdom, Canada, Italy' 'Czech Republic, France'\n",
      " 'Taiwan, Hong Kong, United States, China' 'Germany, Australia'\n",
      " 'United Kingdom, Poland, United States' 'Denmark, Zimbabwe'\n",
      " 'United Kingdom, South Africa' 'Finland, Sweden, Norway, Latvia, Germany'\n",
      " 'South Africa, United States, New Zealand, Canada'\n",
      " 'United States, Italy, United Kingdom, Liechtenstein'\n",
      " 'Denmark, France, Belgium, Italy, Netherlands, United States, United Kingdom'\n",
      " 'United States, Australia, Mexico'\n",
      " 'United Kingdom, Czech Republic, Germany, United States'\n",
      " 'France, China, Japan, United States' 'United States, South Korea, China'\n",
      " 'Germany, Belgium' 'Pakistan, Norway, United States'\n",
      " 'United States, Canada, Belgium, United Kingdom'\n",
      " 'Canada, France, Italy, Morocco, United States' 'Canada, Spain, France'\n",
      " 'United States, Indonesia' 'Spain, France, Italy'\n",
      " 'United Arab Emirates, United States, United Kingdom'\n",
      " 'United Kingdom, Israel, Russia' 'Spain, Cuba' 'United States, Brazil'\n",
      " 'United States, France, Mexico' 'United States, Nicaragua'\n",
      " 'United Kingdom, United States, Spain, Germany, Greece, Canada'\n",
      " 'Italy, Canada, France' 'United Kingdom, Denmark, Canada, Croatia'\n",
      " 'Italy, Germany' 'United States, France, United Kingdom, Japan'\n",
      " 'United States, United Kingdom, Denmark, Sweden'\n",
      " 'United States, United Kingdom, Italy'\n",
      " 'United States, France, Canada, Spain' 'Russia, United States, China'\n",
      " 'United States, Canada, Germany' 'Ireland, United States'\n",
      " 'United States, United Arab Emirates' 'United States, Ireland'\n",
      " 'Ireland, United Kingdom, Italy, United States' 'Poland,'\n",
      " 'Slovenia, Croatia, Germany, Czech Republic, Qatar'\n",
      " 'Canada, United Kingdom, Netherlands' 'United States, Spain, Germany'\n",
      " 'India, Japan' 'China, South Korea, United States'\n",
      " 'United Kingdom, France, Belgium' 'Canada, Ireland, United States'\n",
      " 'United Kingdom, United States, Dominican Republic'\n",
      " 'United States, Senegal' 'Germany, United Kingdom, United States'\n",
      " 'South Africa, Germany, Netherlands, France'\n",
      " 'Canada, United States, United Kingdom, France, Luxembourg'\n",
      " 'Ireland, United States, France' 'Germany, United States, Canada'\n",
      " 'United Kingdom, Germany, Canada, United States'\n",
      " 'United States, France, Canada, Lebanon, Qatar'\n",
      " 'Netherlands, Belgium, United Kingdom, United States'\n",
      " 'France, Belgium, China, United States' 'United States, Chile, Israel'\n",
      " 'United Kingdom, Norway, Denmark, Germany, Sweden'\n",
      " 'Norway, Denmark, Sweden' 'China, India, Nepal'\n",
      " 'Colombia, Mexico, United States' 'United Kingdom, South Korea'\n",
      " 'Denmark, China' 'United States, Greece, Brazil' 'South Korea, France'\n",
      " 'United States, Australia, Samoa, United Kingdom'\n",
      " 'Germany, United Kingdom' 'Argentina, Chile, Peru' 'Turkey, Azerbaijan'\n",
      " 'Poland, West Germany' 'Germany, United States, Sweden' 'Canada, Spain'\n",
      " 'United States, Cambodia' 'United States, Greece'\n",
      " 'Norway, United Kingdom, France, Ireland' 'United Kingdom, Poland'\n",
      " 'Israel, Sweden, Germany, Netherlands' 'Switzerland, France'\n",
      " 'Italy, India' 'United States, Botswana'\n",
      " 'Chile, Argentina, France, Spain, United States'\n",
      " 'United States, India, South Korea, China'\n",
      " 'Denmark, Germany, Belgium, United Kingdom, France'\n",
      " 'Denmark, Germany, Belgium, United Kingdom, France, Sweden'\n",
      " 'France, Switzerland, Spain, United States, United Arab Emirates'\n",
      " 'Brazil, India, China, United States'\n",
      " 'Denmark, France, United States, Sweden' 'Australia, Iraq'\n",
      " 'China, Morocco, Hong Kong' 'Canada, United States, Germany'\n",
      " 'United Kingdom, Thailand' 'Venezuela, Colombia'\n",
      " 'Colombia, United States' 'France, Germany, Czech Republic, Belgium'\n",
      " 'Switzerland, Vatican City, Italy, Germany, France'\n",
      " 'Portugal, France, Poland, United States'\n",
      " 'United States, New Zealand, Japan'\n",
      " 'United States, Netherlands, Japan, France' 'India, Switzerland'\n",
      " 'Canada, India' 'United States, Morocco' 'Singapore, Japan, France'\n",
      " 'Canada, Mexico, Germany, South Africa'\n",
      " 'United Kingdom, United States, Canada'\n",
      " 'Germany, France, United States, Canada, United Kingdom'\n",
      " 'United States, Uruguay' 'India, Canada'\n",
      " 'Ireland, Canada, United Kingdom, United States'\n",
      " 'United States, Germany, Australia' 'Australia, France, Ireland'\n",
      " 'Australia, India' 'United States, United Kingdom, Canada, Japan'\n",
      " 'Sweden, United Kingdom, Finland' 'Hong Kong, Taiwan'\n",
      " 'United States, United Kingdom, Spain, South Korea'\n",
      " 'Italy, South Africa, West Germany, Australia, United States'\n",
      " 'United States, Germany, United Kingdom, Australia'\n",
      " 'Italy, France, Switzerland' 'Canada, France, United States'\n",
      " 'Switzerland, United States' 'Thailand, Canada, United States'\n",
      " 'China, Hong Kong, United States' 'United Kingdom, New Zealand'\n",
      " 'Czech Republic, United Kingdom, France'\n",
      " 'Australia, United Kingdom, Canada' 'Jamaica, United States'\n",
      " 'Australia, United Kingdom, United States, New Zealand, Italy, France'\n",
      " 'France, United States, Canada'\n",
      " 'United Kingdom, France, Canada, Belgium, United States'\n",
      " 'Denmark, United Kingdom, Sweden' 'United States, Hong Kong'\n",
      " 'United States, Kazakhstan'\n",
      " 'Argentina, France, United States, Germany, Qatar'\n",
      " 'United States, Germany, United Kingdom'\n",
      " 'United States, Germany, United Kingdom, Italy'\n",
      " 'United States, New Zealand, United Kingdom' 'Finland, United States'\n",
      " 'Spain, France, Uruguay' 'France, Canada, United States'\n",
      " 'United States, Canada, China'\n",
      " 'Ireland, Canada, Luxembourg, United States, United Kingdom, Philippines, India'\n",
      " 'United States, Czech Republic, United Kingdom' 'Israel, Germany'\n",
      " 'Mexico, France'\n",
      " 'Israel, Germany, Poland, Luxembourg, Belgium, France, United States'\n",
      " 'Austria, United States' 'United Kingdom, Lithuania'\n",
      " 'United States, Greece, United Kingdom'\n",
      " 'United Kingdom, China, United States, India'\n",
      " 'United States, Sweden, Norway' 'United Kingdom, United States, Morocco'\n",
      " 'United States, United Kingdom, Morocco' 'Spain, Canada, United States'\n",
      " 'United States, India, United Arab Emirates'\n",
      " 'United Kingdom, Canada, France, United States' 'India, Germany, France'\n",
      " 'Belgium, Ireland, Netherlands, Germany, Afghanistan'\n",
      " 'France, Canada, Italy, United States, China'\n",
      " 'Ireland, United Kingdom, Greece, France, Netherlands'\n",
      " 'Denmark, Indonesia, Finland, Norway, United Kingdom, Israel, France, United States, Germany, Netherlands'\n",
      " 'New Zealand, United States'\n",
      " 'United States, Australia, South Africa, United Kingdom'\n",
      " 'United States, Germany, Mexico'\n",
      " 'Somalia, Kenya, Sudan, South Africa, United States'\n",
      " 'United States, Canada, Japan, Panama' 'United Kingdom, Spain, Belgium'\n",
      " 'Serbia, South Korea, Slovenia'\n",
      " 'Denmark, United Kingdom, South Africa, Sweden, Belgium'\n",
      " 'Germany, Canada, United States'\n",
      " 'Ireland, Canada, United States, United Kingdom'\n",
      " 'New Zealand, United Kingdom, Australia'\n",
      " 'United Kingdom, Australia, Canada, United States'\n",
      " 'Germany, United States, Italy' 'United States, Venezuela'\n",
      " 'United Kingdom, Canada, Japan'\n",
      " 'United Kingdom, United States, Czech Republic'\n",
      " 'United Kingdom, China, United States' 'United Kingdom, Brazil, Germany'\n",
      " 'United Kingdom, Namibia, South Africa, Zimbabwe, United States'\n",
      " 'Canada, United States, India, United Kingdom'\n",
      " 'Switzerland, United Kingdom, United States'\n",
      " 'United Kingdom, India, Sweden'\n",
      " 'United States, Brazil, India, Uganda, China'\n",
      " 'Peru, United States, United Kingdom'\n",
      " 'Germany, United States, United Kingdom, Canada'\n",
      " 'Canada, India, Thailand, United States, United Arab Emirates'\n",
      " 'United States, East Germany, West Germany'\n",
      " 'France, Netherlands, South Africa, Finland'\n",
      " 'Egypt, Austria, United States' 'Russia, Spain'\n",
      " 'Croatia, Slovenia, Serbia, Montenegro' 'Japan, Canada'\n",
      " 'United States, France, South Korea, Indonesia'\n",
      " 'United Arab Emirates, Jordan']\n"
     ]
    }
   ],
   "source": [
    "paises_com_asp = df_dataset1[df_dataset1['country'].str.contains(',', na=False)]\n",
    "\n",
    "# Exibir os países encontrados\n",
    "print(paises_com_asp['country'].unique())"
   ]
  },
  {
   "cell_type": "markdown",
   "metadata": {},
   "source": [
    "Issue and justification: *FILL IN*\n",
    "\n",
    "I have identified that in the countries column there are lines with several production countries separated by commas. As a premise, we will keep only the first country indicated in each line. This step will be carried out in the cleaning stage."
   ]
  },
  {
   "cell_type": "markdown",
   "metadata": {
    "id": "4ffMoRGSwzYj"
   },
   "source": [
    "### Tidiness Issue 2: "
   ]
  },
  {
   "cell_type": "code",
   "execution_count": 76,
   "metadata": {},
   "outputs": [
    {
     "name": "stdout",
     "output_type": "stream",
     "text": [
      "                                               País   Ano     PIB (US$)\n",
      "5228                                        Uruguay  2013  6.133762e+10\n",
      "441                                       IDA total  2020  2.450267e+12\n",
      "990                                           World  2017  8.171204e+13\n",
      "2433                               French Polynesia  2005  5.705052e+09\n",
      "1541                                       Botswana  2010  1.263727e+10\n",
      "3465                                       Maldives  2013  3.295009e+09\n",
      "372                                       IBRD only  2005  9.656466e+12\n",
      "1917                               Congo, Dem. Rep.  2005  1.196448e+10\n",
      "5053                                        Turkiye  2000  2.742946e+11\n",
      "130                             East Asia & Pacific  2016  2.278179e+13\n",
      "2217                                    El Salvador  2020  2.492119e+10\n",
      "3580                                      Mauritius  2003  5.894874e+09\n",
      "2084                                        Czechia  2006  1.562363e+11\n",
      "1609                                       Bulgaria  2005  2.986866e+10\n",
      "5354                             West Bank and Gaza  2005  5.125700e+09\n",
      "1494                                        Bolivia  2015  3.300020e+10\n",
      "1666                                     Cabo Verde  2011  2.046818e+09\n",
      "3584                                         Mexico  2020  1.121065e+12\n",
      "4039                                           Oman  2004  2.837893e+10\n",
      "1277                                     Azerbaijan  2001  5.707616e+09\n",
      "1511                         Bosnia and Herzegovina  2019  2.048261e+10\n",
      "241   Europe & Central Asia (excluding high income)  2010  1.379347e+12\n",
      "2055                                         Cyprus  2014  2.322592e+10\n",
      "438                                        IDA only  2002  3.039140e+11\n",
      "1302                                        Bahrain  2018  3.956798e+10\n",
      "4634                                   South Africa  2009  3.297541e+11\n",
      "2577                                      Greenland  2008  2.499092e+09\n",
      "741                                    OECD members  2014  5.049938e+13\n",
      "2693                                         Guyana  2016  4.482697e+09\n",
      "1725                                         Canada  2015  1.556509e+12\n",
      "4266                                          Qatar  2008  1.152701e+11\n",
      "3399                                     Madagascar  2016  1.184861e+10\n",
      "4387                          Sao Tome and Principe  2013  2.670417e+08\n",
      "4410                                   Saudi Arabia  2011  6.766347e+11\n",
      "3040                                         Jordan  2005  1.258900e+10\n",
      "2426                               French Polynesia  2012  5.692858e+09\n",
      "3279                                        Liberia  2010  1.998000e+09\n",
      "4263                                          Qatar  2011  1.677753e+11\n",
      "3624                          Micronesia, Fed. Sts.  2001  2.409709e+08\n",
      "128                             East Asia & Pacific  2018  2.649451e+13\n",
      "3643                                        Moldova  2003  1.980907e+09\n",
      "26                       Africa Western and Central  2015  7.717669e+11\n",
      "3103                                       Kiribati  2005  1.138955e+08\n",
      "4559                                Slovak Republic  2000  2.921573e+10\n",
      "1569                                         Brazil  2003  5.582337e+11\n",
      "442                                       IDA total  2019  2.501780e+12\n",
      "5027                                        Tunisia  2005  3.227219e+10\n",
      "1312                                        Bahrain  2008  2.571090e+10\n",
      "1242                                        Austria  2015  3.795461e+11\n",
      "4271                                          Qatar  2003  2.353379e+10\n",
      "2152                                       Dominica  2001  3.402037e+08\n",
      "2722                                          Haiti  2008  1.043296e+10\n",
      "315          Heavily indebted poor countries (HIPC)  2020  8.131399e+11\n",
      "3032                                         Jordan  2013  3.445444e+10\n",
      "40                       Africa Western and Central  2001  1.500585e+11\n"
     ]
    }
   ],
   "source": [
    "#FILL IN - Inspecting the dataframe visually\n",
    "print(df_dataset2.sample(55))"
   ]
  },
  {
   "cell_type": "code",
   "execution_count": 77,
   "metadata": {},
   "outputs": [
    {
     "name": "stdout",
     "output_type": "stream",
     "text": [
      "País: ['Africa Eastern and Southern' 'Africa Western and Central' 'Arab World'\n",
      " 'Caribbean small states' 'Central Europe and the Baltics'\n",
      " 'Early-demographic dividend' 'East Asia & Pacific'\n",
      " 'East Asia & Pacific (excluding high income)'\n",
      " 'East Asia & Pacific (IDA & IBRD countries)' 'Euro area'\n",
      " 'Europe & Central Asia' 'Europe & Central Asia (excluding high income)'\n",
      " 'Europe & Central Asia (IDA & IBRD countries)' 'European Union'\n",
      " 'Fragile and conflict affected situations'\n",
      " 'Heavily indebted poor countries (HIPC)' 'High income' 'IBRD only'\n",
      " 'IDA & IBRD total' 'IDA blend' 'IDA only' 'IDA total'\n",
      " 'Late-demographic dividend' 'Latin America & Caribbean'\n",
      " 'Latin America & Caribbean (excluding high income)'\n",
      " 'Latin America & the Caribbean (IDA & IBRD countries)'\n",
      " 'Least developed countries: UN classification' 'Low & middle income'\n",
      " 'Low income' 'Lower middle income' 'Middle East & North Africa'\n",
      " 'Middle East & North Africa (excluding high income)'\n",
      " 'Middle East & North Africa (IDA & IBRD countries)' 'Middle income'\n",
      " 'North America' 'OECD members' 'Other small states'\n",
      " 'Pacific island small states' 'Post-demographic dividend'\n",
      " 'Pre-demographic dividend' 'Small states' 'South Asia'\n",
      " 'South Asia (IDA & IBRD)' 'Sub-Saharan Africa'\n",
      " 'Sub-Saharan Africa (excluding high income)'\n",
      " 'Sub-Saharan Africa (IDA & IBRD countries)' 'Upper middle income' 'World'\n",
      " 'Afghanistan' 'Albania' 'Algeria' 'American Samoa' 'Andorra' 'Angola'\n",
      " 'Antigua and Barbuda' 'Argentina' 'Armenia' 'Aruba' 'Australia' 'Austria'\n",
      " 'Azerbaijan' 'Bahamas, The' 'Bahrain' 'Bangladesh' 'Barbados' 'Belarus'\n",
      " 'Belgium' 'Belize' 'Benin' 'Bermuda' 'Bhutan' 'Bolivia'\n",
      " 'Bosnia and Herzegovina' 'Botswana' 'Brazil' 'Brunei Darussalam'\n",
      " 'Bulgaria' 'Burkina Faso' 'Burundi' 'Cabo Verde' 'Cambodia' 'Cameroon'\n",
      " 'Canada' 'Cayman Islands' 'Central African Republic' 'Chad'\n",
      " 'Channel Islands' 'Chile' 'China' 'Colombia' 'Comoros' 'Congo, Dem. Rep.'\n",
      " 'Congo, Rep.' 'Costa Rica' \"Cote d'Ivoire\" 'Croatia' 'Cuba' 'Curacao'\n",
      " 'Cyprus' 'Czechia' 'Denmark' 'Djibouti' 'Dominica' 'Dominican Republic'\n",
      " 'Ecuador' 'Egypt, Arab Rep.' 'El Salvador' 'Equatorial Guinea' 'Eritrea'\n",
      " 'Estonia' 'Eswatini' 'Ethiopia' 'Faroe Islands' 'Fiji' 'Finland' 'France'\n",
      " 'French Polynesia' 'Gabon' 'Gambia, The' 'Georgia' 'Germany' 'Ghana'\n",
      " 'Greece' 'Greenland' 'Grenada' 'Guam' 'Guatemala' 'Guinea'\n",
      " 'Guinea-Bissau' 'Guyana' 'Haiti' 'Honduras' 'Hong Kong SAR, China'\n",
      " 'Hungary' 'Iceland' 'India' 'Indonesia' 'Iran, Islamic Rep.' 'Iraq'\n",
      " 'Ireland' 'Isle of Man' 'Israel' 'Italy' 'Jamaica' 'Japan' 'Jordan'\n",
      " 'Kazakhstan' 'Kenya' 'Kiribati' 'Korea, Rep.' 'Kosovo' 'Kuwait'\n",
      " 'Kyrgyz Republic' 'Lao PDR' 'Latvia' 'Lebanon' 'Lesotho' 'Liberia'\n",
      " 'Libya' 'Liechtenstein' 'Lithuania' 'Luxembourg' 'Macao SAR, China'\n",
      " 'Madagascar' 'Malawi' 'Malaysia' 'Maldives' 'Mali' 'Malta'\n",
      " 'Marshall Islands' 'Mauritania' 'Mauritius' 'Mexico'\n",
      " 'Micronesia, Fed. Sts.' 'Moldova' 'Monaco' 'Mongolia' 'Montenegro'\n",
      " 'Morocco' 'Mozambique' 'Myanmar' 'Namibia' 'Nauru' 'Nepal' 'Netherlands'\n",
      " 'New Caledonia' 'New Zealand' 'Nicaragua' 'Niger' 'Nigeria'\n",
      " 'North Macedonia' 'Northern Mariana Islands' 'Norway' 'Oman' 'Pakistan'\n",
      " 'Palau' 'Panama' 'Papua New Guinea' 'Paraguay' 'Peru' 'Philippines'\n",
      " 'Poland' 'Portugal' 'Puerto Rico' 'Qatar' 'Romania' 'Russian Federation'\n",
      " 'Rwanda' 'Samoa' 'San Marino' 'Sao Tome and Principe' 'Saudi Arabia'\n",
      " 'Senegal' 'Serbia' 'Seychelles' 'Sierra Leone' 'Singapore'\n",
      " 'Sint Maarten (Dutch part)' 'Slovak Republic' 'Slovenia'\n",
      " 'Solomon Islands' 'Somalia' 'South Africa' 'South Sudan' 'Spain'\n",
      " 'Sri Lanka' 'St. Kitts and Nevis' 'St. Lucia' 'St. Martin (French part)'\n",
      " 'St. Vincent and the Grenadines' 'Sudan' 'Suriname' 'Sweden'\n",
      " 'Switzerland' 'Syrian Arab Republic' 'Tajikistan' 'Tanzania' 'Thailand'\n",
      " 'Timor-Leste' 'Togo' 'Tonga' 'Trinidad and Tobago' 'Tunisia' 'Turkiye'\n",
      " 'Turkmenistan' 'Turks and Caicos Islands' 'Tuvalu' 'Uganda' 'Ukraine'\n",
      " 'United Arab Emirates' 'United Kingdom' 'United States' 'Uruguay'\n",
      " 'Uzbekistan' 'Vanuatu' 'Venezuela, RB' 'Viet Nam' 'Virgin Islands (U.S.)'\n",
      " 'West Bank and Gaza' 'Yemen, Rep.' 'Zambia' 'Zimbabwe']\n",
      "Ano: [2020 2019 2018 2017 2016 2015 2014 2013 2012 2011 2010 2009 2008 2007\n",
      " 2006 2005 2004 2003 2002 2001 2000]\n"
     ]
    }
   ],
   "source": [
    "#FILL IN - Inspecting the dataframe programmatically\n",
    "# Inspecionar valores únicos em colunas relevantes\n",
    "for col in ['País', 'Ano']:\n",
    "    print(f\"{col}: {df_dataset2[col].unique()}\")"
   ]
  },
  {
   "cell_type": "code",
   "execution_count": 78,
   "metadata": {},
   "outputs": [
    {
     "name": "stdout",
     "output_type": "stream",
     "text": [
      "['Bahamas, The' 'Congo, Dem. Rep.' 'Congo, Rep.' 'Egypt, Arab Rep.'\n",
      " 'Gambia, The' 'Hong Kong SAR, China' 'Iran, Islamic Rep.' 'Korea, Rep.'\n",
      " 'Macao SAR, China' 'Micronesia, Fed. Sts.' 'Venezuela, RB' 'Yemen, Rep.']\n"
     ]
    }
   ],
   "source": [
    "# Filtrar linhas em que o nome do país contém uma vírgula\n",
    "paises_com_virgula = df_dataset2[df_dataset2['País'].str.contains(',', na=False)]\n",
    "\n",
    "# Exibir os países encontrados\n",
    "print(paises_com_virgula['País'].unique())"
   ]
  },
  {
   "cell_type": "markdown",
   "metadata": {},
   "source": [
    "Issue and justification: *FILL IN*\n",
    "\n",
    "I identified that in the countries column there are also lines that contain the full name of a country separated by a comma. As a premise, we will keep only the main first name of the country for these cases. This step will be carried out in the cleaning stage."
   ]
  },
  {
   "cell_type": "markdown",
   "metadata": {
    "id": "D6gmLnBttpCh"
   },
   "source": [
    "## 3. Clean data\n",
    "Clean the data to solve the 4 issues corresponding to data quality and tidiness found in the assessing step. **Make sure you include justifications for your cleaning decisions.**\n",
    "\n",
    "After the cleaning for each issue, please use **either** the visually or programatical method to validate the cleaning was succesful.\n",
    "\n",
    "At this stage, you are also expected to remove variables that are unnecessary for your analysis and combine your datasets. Depending on your datasets, you may choose to perform variable combination and elimination before or after the cleaning stage. Your dataset must have **at least** 4 variables after combining the data."
   ]
  },
  {
   "cell_type": "code",
   "execution_count": 79,
   "metadata": {},
   "outputs": [],
   "source": [
    "# FILL IN - Make copies of the datasets to ensure the raw dataframes \n",
    "# are not impacted"
   ]
  },
  {
   "cell_type": "markdown",
   "metadata": {
    "id": "FmFhN52Yyn3l"
   },
   "source": [
    "### **Quality Issue 1: FILL IN**"
   ]
  },
  {
   "cell_type": "code",
   "execution_count": 80,
   "metadata": {
    "id": "9UejDWrNMW4a"
   },
   "outputs": [],
   "source": [
    "# FILL IN - Apply the cleaning strategy"
   ]
  },
  {
   "cell_type": "code",
   "execution_count": 81,
   "metadata": {},
   "outputs": [],
   "source": [
    "df_dataset1 = df_dataset1.dropna(subset=['country'])"
   ]
  },
  {
   "cell_type": "code",
   "execution_count": 82,
   "metadata": {
    "id": "oUBee-LPytkv"
   },
   "outputs": [],
   "source": [
    "# FILL IN - Validate the cleaning was successful"
   ]
  },
  {
   "cell_type": "code",
   "execution_count": 83,
   "metadata": {},
   "outputs": [
    {
     "name": "stdout",
     "output_type": "stream",
     "text": [
      "0\n"
     ]
    }
   ],
   "source": [
    "print(df_dataset1['country'].isnull().sum())  # Deve retornar 0"
   ]
  },
  {
   "cell_type": "code",
   "execution_count": 84,
   "metadata": {},
   "outputs": [
    {
     "name": "stdout",
     "output_type": "stream",
     "text": [
      "show_id            0\n",
      "type               0\n",
      "title              0\n",
      "director        2225\n",
      "cast             671\n",
      "country            0\n",
      "date_added         9\n",
      "release_year       0\n",
      "rating             3\n",
      "duration           3\n",
      "listed_in          0\n",
      "description        0\n",
      "dtype: int64\n",
      "\n",
      "País         0\n",
      "Ano          0\n",
      "PIB (US$)    0\n",
      "dtype: int64\n"
     ]
    }
   ],
   "source": [
    "print(df_dataset1.isnull().sum())\n",
    "print()\n",
    "print(df_dataset2.isnull().sum())"
   ]
  },
  {
   "cell_type": "markdown",
   "metadata": {},
   "source": [
    "Justification: *FILL IN*\n",
    "\n",
    "The first problem was the existence of null data in dataset 1. focused on the Countries column, which will be the main information to answer the objective question of the study. Therefore, we excluded from the database the lines whose country information was null."
   ]
  },
  {
   "cell_type": "markdown",
   "metadata": {
    "id": "n_DAUbJrymBL"
   },
   "source": [
    "### **Quality Issue 2: FILL IN**"
   ]
  },
  {
   "cell_type": "code",
   "execution_count": 85,
   "metadata": {
    "id": "5Yfb-Yu5MTuE"
   },
   "outputs": [],
   "source": [
    "#FILL IN - Apply the cleaning strategy"
   ]
  },
  {
   "cell_type": "code",
   "execution_count": 86,
   "metadata": {},
   "outputs": [],
   "source": [
    "df_dataset2['PIB (US$)'] = df_dataset2['PIB (US$)'].round(2)"
   ]
  },
  {
   "cell_type": "code",
   "execution_count": 87,
   "metadata": {
    "id": "ionB2sRaMUmY"
   },
   "outputs": [],
   "source": [
    "#FILL IN - Validate the cleaning was successful"
   ]
  },
  {
   "cell_type": "code",
   "execution_count": 88,
   "metadata": {},
   "outputs": [
    {
     "name": "stdout",
     "output_type": "stream",
     "text": [
      "                          País   Ano     PIB (US$)\n",
      "0  Africa Eastern and Southern  2020  9.333918e+11\n",
      "1  Africa Eastern and Southern  2019  1.009721e+12\n",
      "2  Africa Eastern and Southern  2018  1.012306e+12\n",
      "3  Africa Eastern and Southern  2017  9.729989e+11\n",
      "4  Africa Eastern and Southern  2016  8.289428e+11\n"
     ]
    }
   ],
   "source": [
    "print(df_dataset2.head())"
   ]
  },
  {
   "cell_type": "markdown",
   "metadata": {},
   "source": [
    "Justification: *FILL IN*\n",
    "\n",
    "I rounded the GDP value of each country to two decimal places."
   ]
  },
  {
   "cell_type": "markdown",
   "metadata": {
    "id": "bIUrrfSNyOPR"
   },
   "source": [
    "### **Tidiness Issue 1: FILL IN**"
   ]
  },
  {
   "cell_type": "code",
   "execution_count": 89,
   "metadata": {
    "id": "fib0zAm333bn"
   },
   "outputs": [],
   "source": [
    "#FILL IN - Apply the cleaning strategy\n",
    "df_dataset1['country'] = df_dataset1['country'].str.split(',').str[0].str.strip()"
   ]
  },
  {
   "cell_type": "code",
   "execution_count": 90,
   "metadata": {
    "id": "yhrnUGY_Nk8B"
   },
   "outputs": [
    {
     "name": "stdout",
     "output_type": "stream",
     "text": [
      "Países únicos no dataset1:\n",
      "['United States' 'South Africa' 'India' 'United Kingdom' 'Germany'\n",
      " 'Mexico' 'Turkey' 'Australia' 'Finland' 'China' 'Nigeria' 'Japan' 'Spain'\n",
      " 'France' 'Belgium' 'South Korea' 'Argentina' 'Russia' 'Canada'\n",
      " 'Hong Kong' 'Italy' '' 'Ireland' 'New Zealand' 'Jordan' 'Colombia'\n",
      " 'Switzerland' 'Israel' 'Brazil' 'Taiwan' 'Bulgaria' 'Poland'\n",
      " 'Saudi Arabia' 'Thailand' 'Indonesia' 'Egypt' 'Kuwait' 'Malaysia'\n",
      " 'Vietnam' 'Sweden' 'Lebanon' 'Romania' 'Philippines' 'Iceland' 'Denmark'\n",
      " 'United Arab Emirates' 'Netherlands' 'Norway' 'Syria' 'Mauritius'\n",
      " 'Austria' 'Czech Republic' 'Cameroon' 'Uruguay' 'Kenya' 'Chile'\n",
      " 'Luxembourg' 'Bangladesh' 'Portugal' 'Hungary' 'Senegal' 'Singapore'\n",
      " 'Serbia' 'Namibia' 'Peru' 'Mozambique' 'Belarus' 'Ghana' 'Zimbabwe'\n",
      " 'Puerto Rico' 'Pakistan' 'Cyprus' 'Paraguay' 'Croatia' 'Cambodia'\n",
      " 'Georgia' 'Soviet Union' 'Greece' 'West Germany' 'Iran' 'Venezuela'\n",
      " 'Slovenia' 'Guatemala' 'Ukraine' 'Jamaica' 'Somalia']\n"
     ]
    }
   ],
   "source": [
    "#FILL IN - Validate the cleaning was successful\n",
    "print(\"Países únicos no dataset1:\")\n",
    "print(df_dataset1['country'].unique())"
   ]
  },
  {
   "cell_type": "markdown",
   "metadata": {},
   "source": [
    "Justification: *FILL IN*\n",
    "\n",
    "I was able to perform the cleaning, leaving only the name of the first country in each line."
   ]
  },
  {
   "cell_type": "markdown",
   "metadata": {
    "id": "o51Bt8kwyTzk"
   },
   "source": [
    "### **Tidiness Issue 2: FILL IN**"
   ]
  },
  {
   "cell_type": "code",
   "execution_count": 91,
   "metadata": {},
   "outputs": [],
   "source": [
    "#FILL IN - Apply the cleaning strategy\n",
    "df_dataset2['País'] = df_dataset2['País'].str.split(',').str[0].str.strip()\n"
   ]
  },
  {
   "cell_type": "code",
   "execution_count": 92,
   "metadata": {},
   "outputs": [
    {
     "name": "stdout",
     "output_type": "stream",
     "text": [
      "Países únicos no dataset2:\n",
      "['Africa Eastern and Southern' 'Africa Western and Central' 'Arab World'\n",
      " 'Caribbean small states' 'Central Europe and the Baltics'\n",
      " 'Early-demographic dividend' 'East Asia & Pacific'\n",
      " 'East Asia & Pacific (excluding high income)'\n",
      " 'East Asia & Pacific (IDA & IBRD countries)' 'Euro area'\n",
      " 'Europe & Central Asia' 'Europe & Central Asia (excluding high income)'\n",
      " 'Europe & Central Asia (IDA & IBRD countries)' 'European Union'\n",
      " 'Fragile and conflict affected situations'\n",
      " 'Heavily indebted poor countries (HIPC)' 'High income' 'IBRD only'\n",
      " 'IDA & IBRD total' 'IDA blend' 'IDA only' 'IDA total'\n",
      " 'Late-demographic dividend' 'Latin America & Caribbean'\n",
      " 'Latin America & Caribbean (excluding high income)'\n",
      " 'Latin America & the Caribbean (IDA & IBRD countries)'\n",
      " 'Least developed countries: UN classification' 'Low & middle income'\n",
      " 'Low income' 'Lower middle income' 'Middle East & North Africa'\n",
      " 'Middle East & North Africa (excluding high income)'\n",
      " 'Middle East & North Africa (IDA & IBRD countries)' 'Middle income'\n",
      " 'North America' 'OECD members' 'Other small states'\n",
      " 'Pacific island small states' 'Post-demographic dividend'\n",
      " 'Pre-demographic dividend' 'Small states' 'South Asia'\n",
      " 'South Asia (IDA & IBRD)' 'Sub-Saharan Africa'\n",
      " 'Sub-Saharan Africa (excluding high income)'\n",
      " 'Sub-Saharan Africa (IDA & IBRD countries)' 'Upper middle income' 'World'\n",
      " 'Afghanistan' 'Albania' 'Algeria' 'American Samoa' 'Andorra' 'Angola'\n",
      " 'Antigua and Barbuda' 'Argentina' 'Armenia' 'Aruba' 'Australia' 'Austria'\n",
      " 'Azerbaijan' 'Bahamas' 'Bahrain' 'Bangladesh' 'Barbados' 'Belarus'\n",
      " 'Belgium' 'Belize' 'Benin' 'Bermuda' 'Bhutan' 'Bolivia'\n",
      " 'Bosnia and Herzegovina' 'Botswana' 'Brazil' 'Brunei Darussalam'\n",
      " 'Bulgaria' 'Burkina Faso' 'Burundi' 'Cabo Verde' 'Cambodia' 'Cameroon'\n",
      " 'Canada' 'Cayman Islands' 'Central African Republic' 'Chad'\n",
      " 'Channel Islands' 'Chile' 'China' 'Colombia' 'Comoros' 'Congo'\n",
      " 'Costa Rica' \"Cote d'Ivoire\" 'Croatia' 'Cuba' 'Curacao' 'Cyprus'\n",
      " 'Czechia' 'Denmark' 'Djibouti' 'Dominica' 'Dominican Republic' 'Ecuador'\n",
      " 'Egypt' 'El Salvador' 'Equatorial Guinea' 'Eritrea' 'Estonia' 'Eswatini'\n",
      " 'Ethiopia' 'Faroe Islands' 'Fiji' 'Finland' 'France' 'French Polynesia'\n",
      " 'Gabon' 'Gambia' 'Georgia' 'Germany' 'Ghana' 'Greece' 'Greenland'\n",
      " 'Grenada' 'Guam' 'Guatemala' 'Guinea' 'Guinea-Bissau' 'Guyana' 'Haiti'\n",
      " 'Honduras' 'Hong Kong SAR' 'Hungary' 'Iceland' 'India' 'Indonesia' 'Iran'\n",
      " 'Iraq' 'Ireland' 'Isle of Man' 'Israel' 'Italy' 'Jamaica' 'Japan'\n",
      " 'Jordan' 'Kazakhstan' 'Kenya' 'Kiribati' 'Korea' 'Kosovo' 'Kuwait'\n",
      " 'Kyrgyz Republic' 'Lao PDR' 'Latvia' 'Lebanon' 'Lesotho' 'Liberia'\n",
      " 'Libya' 'Liechtenstein' 'Lithuania' 'Luxembourg' 'Macao SAR' 'Madagascar'\n",
      " 'Malawi' 'Malaysia' 'Maldives' 'Mali' 'Malta' 'Marshall Islands'\n",
      " 'Mauritania' 'Mauritius' 'Mexico' 'Micronesia' 'Moldova' 'Monaco'\n",
      " 'Mongolia' 'Montenegro' 'Morocco' 'Mozambique' 'Myanmar' 'Namibia'\n",
      " 'Nauru' 'Nepal' 'Netherlands' 'New Caledonia' 'New Zealand' 'Nicaragua'\n",
      " 'Niger' 'Nigeria' 'North Macedonia' 'Northern Mariana Islands' 'Norway'\n",
      " 'Oman' 'Pakistan' 'Palau' 'Panama' 'Papua New Guinea' 'Paraguay' 'Peru'\n",
      " 'Philippines' 'Poland' 'Portugal' 'Puerto Rico' 'Qatar' 'Romania'\n",
      " 'Russian Federation' 'Rwanda' 'Samoa' 'San Marino'\n",
      " 'Sao Tome and Principe' 'Saudi Arabia' 'Senegal' 'Serbia' 'Seychelles'\n",
      " 'Sierra Leone' 'Singapore' 'Sint Maarten (Dutch part)' 'Slovak Republic'\n",
      " 'Slovenia' 'Solomon Islands' 'Somalia' 'South Africa' 'South Sudan'\n",
      " 'Spain' 'Sri Lanka' 'St. Kitts and Nevis' 'St. Lucia'\n",
      " 'St. Martin (French part)' 'St. Vincent and the Grenadines' 'Sudan'\n",
      " 'Suriname' 'Sweden' 'Switzerland' 'Syrian Arab Republic' 'Tajikistan'\n",
      " 'Tanzania' 'Thailand' 'Timor-Leste' 'Togo' 'Tonga' 'Trinidad and Tobago'\n",
      " 'Tunisia' 'Turkiye' 'Turkmenistan' 'Turks and Caicos Islands' 'Tuvalu'\n",
      " 'Uganda' 'Ukraine' 'United Arab Emirates' 'United Kingdom'\n",
      " 'United States' 'Uruguay' 'Uzbekistan' 'Vanuatu' 'Venezuela' 'Viet Nam'\n",
      " 'Virgin Islands (U.S.)' 'West Bank and Gaza' 'Yemen' 'Zambia' 'Zimbabwe']\n"
     ]
    }
   ],
   "source": [
    "#FILL IN - Validate the cleaning was successful\n",
    "print(\"Países únicos no dataset2:\")\n",
    "print(df_dataset2['País'].unique())"
   ]
  },
  {
   "cell_type": "markdown",
   "metadata": {},
   "source": [
    "Justification: *FILL IN*\n",
    "I was able to perform the cleaning, leaving only the name of the first country in each line."
   ]
  },
  {
   "cell_type": "markdown",
   "metadata": {},
   "source": [
    "### **Preprocessing of data**"
   ]
  },
  {
   "cell_type": "markdown",
   "metadata": {},
   "source": [
    "Looking at the describe, we identified that the GDP value column in dataset 2 is missing the \"_\" in the name. This will be corrected in the next step. In addition, they had upper and lower case letters in the column names.\n",
    "In addicional, I identified that the \"data added\" column was not classified in the correct data type. In addition, there was space between the dates that needed to be adjusted."
   ]
  },
  {
   "cell_type": "code",
   "execution_count": 93,
   "metadata": {
    "id": "SpW59kh-zl8d"
   },
   "outputs": [
    {
     "name": "stdout",
     "output_type": "stream",
     "text": [
      "               Ano     PIB (US$)\n",
      "count  5421.000000  5.421000e+03\n",
      "mean   2010.027117  1.966886e+12\n",
      "std       6.036283  7.274090e+12\n",
      "min    2000.000000  1.396473e+07\n",
      "25%    2005.000000  5.859270e+09\n",
      "50%    2010.000000  3.477253e+10\n",
      "75%    2015.000000  4.091917e+11\n",
      "max    2020.000000  8.814985e+13\n"
     ]
    }
   ],
   "source": [
    "#Descriptive statistics about the numeric columns, such as mean, standard deviation, minimum and maximum values, and more. \n",
    "#This can help you spot anomalies or errors in your data.\n",
    "print(df_dataset2.describe())"
   ]
  },
  {
   "cell_type": "code",
   "execution_count": 94,
   "metadata": {
    "id": "fleC5rORI0Xl"
   },
   "outputs": [
    {
     "name": "stdout",
     "output_type": "stream",
     "text": [
      "Index(['País', 'Ano', 'PIB (US$)'], dtype='object')\n"
     ]
    }
   ],
   "source": [
    "#Visual Assessment: examining the column headers with df.columns to see if the column names are consistent (e.g., no abbreviations or capitalization inconsistencies).\n",
    "print(df_dataset2.columns)"
   ]
  },
  {
   "cell_type": "code",
   "execution_count": 95,
   "metadata": {},
   "outputs": [
    {
     "name": "stdout",
     "output_type": "stream",
     "text": [
      "The column names are NOT standardized. Here are the current columns:\n",
      "Index(['País', 'Ano', 'PIB (US$)'], dtype='object')\n"
     ]
    }
   ],
   "source": [
    "colunas_padronizadas = all(col == col.lower() and ' ' not in col for col in df_dataset2.columns)\n",
    "\n",
    "if colunas_padronizadas:\n",
    "    print(\"The column names are standardized (lower case and no spaces).\")\n",
    "else:\n",
    "    print(\"The column names are NOT standardized. Here are the current columns:\")\n",
    "    print(df.columns)"
   ]
  },
  {
   "cell_type": "code",
   "execution_count": 101,
   "metadata": {
    "id": "XUpeoqokw5Qt"
   },
   "outputs": [
    {
     "name": "stdout",
     "output_type": "stream",
     "text": [
      "show_id                 object\n",
      "type                    object\n",
      "title                   object\n",
      "director                object\n",
      "cast                    object\n",
      "country                 object\n",
      "date_added      datetime64[ns]\n",
      "release_year             int64\n",
      "rating                  object\n",
      "duration                object\n",
      "listed_in               object\n",
      "description             object\n",
      "dtype: object\n",
      "\n",
      "país          object\n",
      "ano            int64\n",
      "pib_(us$)    float64\n",
      "dtype: object\n"
     ]
    }
   ],
   "source": [
    "#Visual Assessment: Checking the data types of columns with df.dtypes to identify whether the columns have appropriate data types.\n",
    "\n",
    "print(df_dataset1.dtypes)\n",
    "print()\n",
    "print(df_dataset2.dtypes)"
   ]
  },
  {
   "cell_type": "code",
   "execution_count": 102,
   "metadata": {
    "id": "c8JK4DoXxtFA"
   },
   "outputs": [
    {
     "name": "stdout",
     "output_type": "stream",
     "text": [
      "Exemplo de valores na coluna 'date_added':\n",
      "0    2021-09-25\n",
      "1    2021-09-24\n",
      "4    2021-09-24\n",
      "7    2021-09-24\n",
      "8    2021-09-24\n",
      "9    2021-09-24\n",
      "12   2021-09-23\n",
      "15   2021-09-22\n",
      "17   2021-09-22\n",
      "21   2021-09-22\n",
      "Name: date_added, dtype: datetime64[ns]\n",
      "\n",
      "Exemplo de formatos únicos na coluna 'date_added':\n",
      "<DatetimeArray>\n",
      "['2021-09-25 00:00:00', '2021-09-24 00:00:00', '2021-09-23 00:00:00',\n",
      " '2021-09-22 00:00:00', '2021-09-21 00:00:00', '2021-09-20 00:00:00',\n",
      " '2021-09-19 00:00:00', '2021-09-17 00:00:00', '2021-09-16 00:00:00',\n",
      " '2021-09-15 00:00:00']\n",
      "Length: 10, dtype: datetime64[ns]\n"
     ]
    }
   ],
   "source": [
    "#Programmatic Assessment: I used df.info() to check the data type of each column and evaluate if its's necessary to convert columns to the appropriate data type.\n",
    "# Visualizar os primeiros valores para entender os padrões gerais\n",
    "print(\"Exemplo de valores na coluna 'date_added':\")\n",
    "print(df_dataset1['date_added'].head(10))\n",
    "\n",
    "# Identificar valores únicos para entender formatos\n",
    "print(\"\\nExemplo de formatos únicos na coluna 'date_added':\")\n",
    "print(df_dataset1['date_added'].dropna().unique()[:10])  # Mostra os 10 primeiros valores únicos"
   ]
  },
  {
   "cell_type": "code",
   "execution_count": 103,
   "metadata": {
    "id": "BTuQw7Rbsio4"
   },
   "outputs": [],
   "source": [
    "#Programmatic Evaluation: the df.columns.str.lower() function can be used to standardize column names to lowercase, making the code easier to access and read.\n",
    "df_dataset2.columns = df_dataset2.columns.str.lower().str.replace(' ','_')"
   ]
  },
  {
   "cell_type": "code",
   "execution_count": 104,
   "metadata": {},
   "outputs": [
    {
     "name": "stdout",
     "output_type": "stream",
     "text": [
      "Index(['país', 'ano', 'pib_(us$)'], dtype='object')\n"
     ]
    }
   ],
   "source": [
    "print(df_dataset2.columns)"
   ]
  },
  {
   "cell_type": "markdown",
   "metadata": {},
   "source": [
    "I performed the correct classification of each type of information in each column.\n",
    "Now, the column names are standardized (lower case and no spaces)."
   ]
  },
  {
   "cell_type": "markdown",
   "metadata": {},
   "source": [
    "### **Remove unnecessary variables and combine datasets**\n",
    "\n",
    "Depending on the datasets, you can also peform the combination before the cleaning steps."
   ]
  },
  {
   "cell_type": "code",
   "execution_count": 106,
   "metadata": {},
   "outputs": [
    {
     "name": "stdout",
     "output_type": "stream",
     "text": [
      "  show_id     type                          title         director  \\\n",
      "0      s1    Movie           Dick Johnson Is Dead  Kirsten Johnson   \n",
      "1      s2  TV Show                  Blood & Water              NaN   \n",
      "2      s5  TV Show                   Kota Factory              NaN   \n",
      "3      s8    Movie                        Sankofa     Haile Gerima   \n",
      "4      s9  TV Show  The Great British Baking Show  Andy Devonshire   \n",
      "\n",
      "                                                cast         country  \\\n",
      "0                                                NaN   United States   \n",
      "1  Ama Qamata, Khosi Ngema, Gail Mabalane, Thaban...    South Africa   \n",
      "2  Mayur More, Jitendra Kumar, Ranjan Raj, Alam K...           India   \n",
      "3  Kofi Ghanaba, Oyafunmike Ogunlano, Alexandra D...   United States   \n",
      "4  Mel Giedroyc, Sue Perkins, Mary Berry, Paul Ho...  United Kingdom   \n",
      "\n",
      "  date_added  release_year rating   duration  \\\n",
      "0 2021-09-25          2020  PG-13     90 min   \n",
      "1 2021-09-24          2021  TV-MA  2 Seasons   \n",
      "2 2021-09-24          2021  TV-MA  2 Seasons   \n",
      "3 2021-09-24          1993  TV-MA    125 min   \n",
      "4 2021-09-24          2021  TV-14  9 Seasons   \n",
      "\n",
      "                                           listed_in  \\\n",
      "0                                      Documentaries   \n",
      "1    International TV Shows, TV Dramas, TV Mysteries   \n",
      "2  International TV Shows, Romantic TV Shows, TV ...   \n",
      "3   Dramas, Independent Movies, International Movies   \n",
      "4                       British TV Shows, Reality TV   \n",
      "\n",
      "                                         description           país     ano  \\\n",
      "0  As her father nears the end of his life, filmm...  United States  2020.0   \n",
      "1  After crossing paths at a party, a Cape Town t...            NaN     NaN   \n",
      "2  In a city of coaching centers known to train I...            NaN     NaN   \n",
      "3  On a photo shoot in Ghana, an American model s...            NaN     NaN   \n",
      "4  A talented batch of amateur bakers face off in...            NaN     NaN   \n",
      "\n",
      "      pib_(us$)  \n",
      "0  2.135410e+13  \n",
      "1           NaN  \n",
      "2           NaN  \n",
      "3           NaN  \n",
      "4           NaN  \n"
     ]
    }
   ],
   "source": [
    "#FILL IN - Remove unnecessary variables and combine datasets\n",
    "\n",
    "# Unir os datasets com base no país e no ano\n",
    "df_unido = pd.merge(df_dataset1, df_dataset2, left_on=['country', 'release_year'], right_on=['país', 'ano'], how='left')\n",
    "\n",
    "# Exibir as primeiras linhas para verificar o resultado\n",
    "print(df_unido.head())"
   ]
  },
  {
   "cell_type": "code",
   "execution_count": 107,
   "metadata": {},
   "outputs": [
    {
     "name": "stdout",
     "output_type": "stream",
     "text": [
      "1347\n"
     ]
    }
   ],
   "source": [
    "print(df_unido['país'].isnull().sum())"
   ]
  },
  {
   "cell_type": "code",
   "execution_count": 108,
   "metadata": {},
   "outputs": [],
   "source": [
    "df_unido2 = df_unido.dropna(subset=['país'])"
   ]
  },
  {
   "cell_type": "code",
   "execution_count": 109,
   "metadata": {},
   "outputs": [
    {
     "name": "stdout",
     "output_type": "stream",
     "text": [
      "0\n"
     ]
    }
   ],
   "source": [
    "print(df_unido2['país'].isnull().sum())  # Deve retornar 0"
   ]
  },
  {
   "cell_type": "markdown",
   "metadata": {},
   "source": [
    "I merged the two databases and cleaned the rows for which there was no GDP value for that respective country/year."
   ]
  },
  {
   "cell_type": "code",
   "execution_count": 110,
   "metadata": {},
   "outputs": [
    {
     "name": "stdout",
     "output_type": "stream",
     "text": [
      "   show_id     type                 title         director  \\\n",
      "0       s1    Movie  Dick Johnson Is Dead  Kirsten Johnson   \n",
      "8      s18  TV Show       Falsa identidad              NaN   \n",
      "12     s28    Movie             Grown Ups     Dennis Dugan   \n",
      "13     s29    Movie            Dark Skies    Scott Stewart   \n",
      "14     s30    Movie              Paranoia   Robert Luketic   \n",
      "\n",
      "                                                 cast        country  \\\n",
      "0                                                 NaN  United States   \n",
      "8   Luis Ernesto Franco, Camila Sodi, Sergio Goyri...         Mexico   \n",
      "12  Adam Sandler, Kevin James, Chris Rock, David S...  United States   \n",
      "13  Keri Russell, Josh Hamilton, J.K. Simmons, Dak...  United States   \n",
      "14  Liam Hemsworth, Gary Oldman, Amber Heard, Harr...  United States   \n",
      "\n",
      "   date_added  release_year rating   duration  \\\n",
      "0  2021-09-25          2020  PG-13     90 min   \n",
      "8  2021-09-22          2020  TV-MA  2 Seasons   \n",
      "12 2021-09-20          2010  PG-13    103 min   \n",
      "13 2021-09-19          2013  PG-13     97 min   \n",
      "14 2021-09-19          2013  PG-13    106 min   \n",
      "\n",
      "                                            listed_in  \\\n",
      "0                                       Documentaries   \n",
      "8   Crime TV Shows, Spanish-Language TV Shows, TV ...   \n",
      "12                                           Comedies   \n",
      "13                    Horror Movies, Sci-Fi & Fantasy   \n",
      "14                                          Thrillers   \n",
      "\n",
      "                                          description           país     ano  \\\n",
      "0   As her father nears the end of his life, filmm...  United States  2020.0   \n",
      "8   Strangers Diego and Isabel flee their home in ...         Mexico  2020.0   \n",
      "12  Mourning the loss of their beloved junior high...  United States  2010.0   \n",
      "13  A family’s idyllic suburban life shatters when...  United States  2013.0   \n",
      "14  Blackmailed by his company's CEO, a low-level ...  United States  2013.0   \n",
      "\n",
      "       pib_(us$)  \n",
      "0   2.135410e+13  \n",
      "8   1.121065e+12  \n",
      "12  1.504897e+13  \n",
      "13  1.688068e+13  \n",
      "14  1.688068e+13  \n"
     ]
    }
   ],
   "source": [
    "print(df_unido2.head())"
   ]
  },
  {
   "cell_type": "code",
   "execution_count": 111,
   "metadata": {},
   "outputs": [
    {
     "name": "stdout",
     "output_type": "stream",
     "text": [
      "['United States' 'Mexico' 'United Kingdom' 'Finland' 'China'\n",
      " 'South Africa' 'India' 'Japan' 'Nigeria' 'Spain' 'Germany' 'Australia'\n",
      " 'Argentina' 'Canada' 'France' 'Ireland' 'Italy' 'Switzerland' 'Colombia'\n",
      " 'Brazil' 'Bulgaria' 'Kuwait' 'Malaysia' 'Indonesia' 'Belgium' 'Lebanon'\n",
      " 'Romania' 'Thailand' 'Philippines' 'Denmark' 'United Arab Emirates'\n",
      " 'Egypt' 'Austria' 'Israel' 'Cameroon' 'Kenya' 'Chile' 'Uruguay'\n",
      " 'Luxembourg' 'Bangladesh' 'Poland' 'Portugal' 'Norway' 'Senegal'\n",
      " 'Netherlands' 'Saudi Arabia' 'Singapore' 'Iceland' 'Sweden' 'Serbia'\n",
      " 'New Zealand' 'Namibia' 'Peru' 'Mozambique' 'Belarus' 'Ghana' 'Zimbabwe'\n",
      " 'Puerto Rico' 'Hungary' 'Pakistan' 'Cyprus' 'Mauritius' 'Jordan'\n",
      " 'Paraguay' 'Croatia' 'Cambodia' 'Georgia' 'Greece' 'Iran' 'Slovenia'\n",
      " 'Venezuela' 'Guatemala' 'Ukraine' 'Jamaica' 'Somalia']\n"
     ]
    }
   ],
   "source": [
    "paises_unicos_unidos = df_unido2['country'].unique()\n",
    "\n",
    "# Exibindo os países únicos\n",
    "print(paises_unicos_unidos)"
   ]
  },
  {
   "cell_type": "code",
   "execution_count": 112,
   "metadata": {},
   "outputs": [
    {
     "name": "stdout",
     "output_type": "stream",
     "text": [
      "       type                 title        country date_added  release_year  \\\n",
      "0     Movie  Dick Johnson Is Dead  United States 2021-09-25          2020   \n",
      "8   TV Show       Falsa identidad         Mexico 2021-09-22          2020   \n",
      "12    Movie             Grown Ups  United States 2021-09-20          2010   \n",
      "13    Movie            Dark Skies  United States 2021-09-19          2013   \n",
      "14    Movie              Paranoia  United States 2021-09-19          2013   \n",
      "\n",
      "   rating                                          listed_in           país  \\\n",
      "0   PG-13                                      Documentaries  United States   \n",
      "8   TV-MA  Crime TV Shows, Spanish-Language TV Shows, TV ...         Mexico   \n",
      "12  PG-13                                           Comedies  United States   \n",
      "13  PG-13                    Horror Movies, Sci-Fi & Fantasy  United States   \n",
      "14  PG-13                                          Thrillers  United States   \n",
      "\n",
      "       ano     pib_(us$)  \n",
      "0   2020.0  2.135410e+13  \n",
      "8   2020.0  1.121065e+12  \n",
      "12  2010.0  1.504897e+13  \n",
      "13  2013.0  1.688068e+13  \n",
      "14  2013.0  1.688068e+13  \n"
     ]
    }
   ],
   "source": [
    "#removing unnecessary columns\n",
    "\n",
    "df_unido3 = df_unido2.drop(columns=['show_id', 'description', 'cast', 'director', 'duration'])\n",
    "\n",
    "# Exibir o dataframe resultante\n",
    "print(df_unido3.head())"
   ]
  },
  {
   "cell_type": "code",
   "execution_count": 113,
   "metadata": {},
   "outputs": [
    {
     "name": "stdout",
     "output_type": "stream",
     "text": [
      "type                    object\n",
      "title                   object\n",
      "country                 object\n",
      "date_added      datetime64[ns]\n",
      "release_year             int64\n",
      "rating                  object\n",
      "listed_in               object\n",
      "país                    object\n",
      "ano                    float64\n",
      "pib_(us$)              float64\n",
      "dtype: object\n"
     ]
    }
   ],
   "source": [
    "print(df_unido3.dtypes)"
   ]
  },
  {
   "cell_type": "code",
   "execution_count": 114,
   "metadata": {},
   "outputs": [
    {
     "name": "stdout",
     "output_type": "stream",
     "text": [
      "type                    object\n",
      "title                   object\n",
      "country                 object\n",
      "date_added      datetime64[ns]\n",
      "release_year             int64\n",
      "rating                  object\n",
      "listed_in               object\n",
      "país                    object\n",
      "ano                      int64\n",
      "pib_(us$)              float64\n",
      "dtype: object\n"
     ]
    }
   ],
   "source": [
    "df_unido3['ano'] = df_unido3['ano'].astype(int)\n",
    "print(df_unido3.dtypes)"
   ]
  },
  {
   "cell_type": "markdown",
   "metadata": {},
   "source": [
    "I identified that when performing the merge, the year of dataset2 was transformed from int to float. I made the adjustment."
   ]
  },
  {
   "cell_type": "markdown",
   "metadata": {
    "id": "F42urHuzttjF"
   },
   "source": [
    "## 4. Update your data store\n",
    "Update your local database/data store with the cleaned data, following best practices for storing your cleaned data:\n",
    "\n",
    "- Must maintain different instances / versions of data (raw and cleaned data)\n",
    "- Must name the dataset files informatively\n",
    "- Ensure both the raw and cleaned data is saved to your database/data store"
   ]
  },
  {
   "cell_type": "code",
   "execution_count": 115,
   "metadata": {
    "id": "V3uay7EJUV_L"
   },
   "outputs": [],
   "source": [
    "#FILL IN - saving data\n",
    "\n",
    "df_unido3.to_csv('cleaned_data_merged.csv',index=False)"
   ]
  },
  {
   "cell_type": "markdown",
   "metadata": {
    "id": "cGy_yddGtzhM"
   },
   "source": [
    "## 5. Answer the research question\n",
    "\n",
    "### **5.1:** Define and answer the research question \n",
    "Going back to the problem statement in step 1, use the cleaned data to answer the question you raised. Produce **at least** two visualizations using the cleaned data and explain how they help you answer the question."
   ]
  },
  {
   "cell_type": "markdown",
   "metadata": {
    "id": "gjedE4s4ZkEd"
   },
   "source": [
    "*Research question:* FILL IN from answer to Step 1\n",
    "\n",
    "I want to analyze the film production of a country and its respective GDPs.\n",
    "\n",
    "Question: Is there any correlation between the media production of a country and its GDP?"
   ]
  },
  {
   "cell_type": "code",
   "execution_count": 116,
   "metadata": {
    "id": "Lkw3rW9kZmOm"
   },
   "outputs": [
    {
     "data": {
      "image/png": "[encoded data removed]",
      "text/plain": [
       "<Figure size 1000x600 with 1 Axes>"
      ]
     },
     "metadata": {},
     "output_type": "display_data"
    }
   ],
   "source": [
    "#Visual 1 - FILL IN\n",
    "\n",
    "# Calcular o número de filmes por país\n",
    "df_unido3['num_filmes'] = df_unido3.groupby('country')['title'].transform('count')\n",
    "\n",
    "# Eliminar linhas duplicadas para que cada país tenha apenas uma linha no gráfico\n",
    "df_unique = df_unido3[['country', 'num_filmes', 'pib_(us$)']].drop_duplicates()\n",
    "\n",
    "# Plotar o gráfico de dispersão\n",
    "plt.figure(figsize=(10, 6))\n",
    "sns.regplot(x='pib_(us$)', y='num_filmes', data=df_unique, scatter_kws={'s': 100, 'alpha': 0.7}, line_kws={'color': 'red'})\n",
    "plt.title('Correlation between GDP and Media Production by Country', fontsize=14)\n",
    "plt.xlabel('pib_(us$)', fontsize=12)\n",
    "plt.ylabel('Number of Films Produced', fontsize=12)\n",
    "plt.grid(True)\n",
    "plt.show()"
   ]
  },
  {
   "cell_type": "markdown",
   "metadata": {},
   "source": [
    "Graph Description\n",
    "\n",
    "X-Axis (GDP): Each country’s GDP is shown on the horizontal axis. The further to the right, the higher the country’s GDP.\n",
    "\n",
    "Y-Axis (Number of Movies Produced): The number of movies is shown on the vertical axis. Countries that have a higher film production will appear higher on the graph.\n",
    "\n",
    "Trend Line: The red line represents a linear regression that indicates the trend in the relationship between GDP and the number of movies. If the line is sloping upward, this suggests a positive correlation (i.e., countries with higher GDP tend to produce more movies).\n",
    "\n",
    "Scatter Plots: Each dot on the graph represents a country. If there is a concentration of dots in specific areas, it may indicate that certain groups of countries have a different relationship between their GDP and media production."
   ]
  },
  {
   "cell_type": "markdown",
   "metadata": {},
   "source": [
    "*Answer to research question:* FILL IN\n",
    "A scatter plot with a trend line allows you to visually observe the relationship between GDP and media production. If there is a positive correlation, the graph will show that countries with higher GDPs tend to have higher film production, which may suggest that wealthier countries have more resources for media production.\n",
    "\n",
    "The correlation between GDP and the number of films is positive, indicating that countries with greater economic power tend to invest more in media production."
   ]
  },
  {
   "cell_type": "code",
   "execution_count": 117,
   "metadata": {
    "id": "6fdK_8ZGZm9R"
   },
   "outputs": [
    {
     "data": {
      "image/png": "[encoded data removed]",
      "text/plain": [
       "<Figure size 600x600 with 2 Axes>"
      ]
     },
     "metadata": {},
     "output_type": "display_data"
    }
   ],
   "source": [
    "#Visual 2 - FILL IN\n",
    "# Calcular a correlação entre PIB e número de filmes\n",
    "correlation_matrix = df_unido3[['pib_(us$)', 'num_filmes']].corr()\n",
    "\n",
    "# Plotar o mapa de calor\n",
    "plt.figure(figsize=(6, 6))\n",
    "sns.heatmap(correlation_matrix, annot=True, cmap='coolwarm', vmin=-1, vmax=1, fmt='.2f', cbar=True)\n",
    "plt.title('Correlation between GDP and Media Production (Number of Films)', fontsize=14)\n",
    "plt.show()"
   ]
  },
  {
   "cell_type": "markdown",
   "metadata": {},
   "source": [
    "Graph Description\n",
    "\n",
    "Heat Map: The heat map shows the strength and direction of the correlation between GDP and film production. The warmer color (red) indicates a strong positive correlation, while the cooler color (blue) indicates a negative correlation.\n",
    "\n",
    "Numerical values: The value displayed within each cell shows the exact correlation between the two variables. For example, a value of 0.85 would indicate a very strong positive correlation, while -0.85 would indicate a strong negative correlation.\n",
    "\n",
    "Colors: The color palette used (coolwarm) ranges from red (strong positive correlation) to blue (strong negative correlation). Values close to 0 indicate a weak or non-existent correlation between the variables."
   ]
  },
  {
   "cell_type": "markdown",
   "metadata": {
    "id": "K5RgvMGUZoHn"
   },
   "source": [
    "*Answer to research question:* FILL IN\n",
    "\n",
    "The heat map concisely presents the correlation between GDP and film production. A high correlation value (close to 1 or -1) indicates a stronger relationship between the variables, while values ​​close to 0 suggest that the variables are not strongly related. This helps to quickly see if there is a consistent trend between the variables.\n",
    "\n",
    "Again, the correlation between GDP and the number of films is positive, indicating that countries with greater economic power tend to invest more in media production."
   ]
  },
  {
   "cell_type": "markdown",
   "metadata": {
    "id": "0ezWXXZVj-TP"
   },
   "source": [
    "### **5.2:** Reflection\n",
    "In 2-4 sentences, if you had more time to complete the project, what actions would you take? For example, which data quality and structural issues would you look into further, and what research questions would you further explore?"
   ]
  },
  {
   "cell_type": "markdown",
   "metadata": {
    "id": "XB3RBDG5kFe1"
   },
   "source": [
    "*Answer:* \n",
    "\n",
    "If I had more time to complete the project, I would devote more attention to cleaning and standardizing the data, ensuring that all values ​​were well formatted. I would also seek to analyze other data from the film database, such as the percentage of film and series productions in each country, or whether the type of production (e.g. documentaries or science fiction) is related to the country's GDP. In addition, I would explore in more depth the variables that can influence media production, such as government investment and cultural characteristics, to improve the analysis of the correlation between GDP and film production. I would also apply regression models to verify more complex relationships and deepen the analysis of country and year variables, considering possible outliers or distortions."
   ]
  },
  {
   "cell_type": "code",
   "execution_count": null,
   "metadata": {},
   "outputs": [],
   "source": []
  }
 ],
 "metadata": {
  "colab": {
   "provenance": []
  },
  "kernelspec": {
   "display_name": "Python 3 (ipykernel)",
   "language": "python",
   "name": "python3"
  },
  "language_info": {
   "codemirror_mode": {
    "name": "ipython",
    "version": 3
   },
   "file_extension": ".py",
   "mimetype": "text/x-python",
   "name": "python",
   "nbconvert_exporter": "python",
   "pygments_lexer": "ipython3",
   "version": "3.10.11"
  }
 },
 "nbformat": 4,
 "nbformat_minor": 1
}
